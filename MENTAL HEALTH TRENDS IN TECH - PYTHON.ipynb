{
 "cells": [
  {
   "cell_type": "markdown",
   "id": "91d06819",
   "metadata": {},
   "source": [
    "# DATA WRANGLING"
   ]
  },
  {
   "cell_type": "code",
   "execution_count": 2,
   "id": "a88c4781",
   "metadata": {},
   "outputs": [],
   "source": [
    "#import packages\n",
    "\n",
    "#data wrangling packages\n",
    "import pandas as pd\n",
    "import numpy as np\n",
    "\n",
    "#visualization and EDA packages\n",
    "from matplotlib import pyplot as plt\n",
    "import seaborn as sns\n",
    "import scipy, scipy.stats\n",
    "import statistics as stats"
   ]
  },
  {
   "cell_type": "code",
   "execution_count": 5,
   "id": "0825231b",
   "metadata": {},
   "outputs": [
    {
     "data": {
      "text/html": [
       "<div>\n",
       "<style scoped>\n",
       "    .dataframe tbody tr th:only-of-type {\n",
       "        vertical-align: middle;\n",
       "    }\n",
       "\n",
       "    .dataframe tbody tr th {\n",
       "        vertical-align: top;\n",
       "    }\n",
       "\n",
       "    .dataframe thead th {\n",
       "        text-align: right;\n",
       "    }\n",
       "</style>\n",
       "<table border=\"1\" class=\"dataframe\">\n",
       "  <thead>\n",
       "    <tr style=\"text-align: right;\">\n",
       "      <th></th>\n",
       "      <th>*Are you self-employed?*</th>\n",
       "      <th>How many employees does your company or organization have?</th>\n",
       "      <th>Is your employer primarily a tech company/organization?</th>\n",
       "      <th>Is your primary role within your company related to tech/IT?</th>\n",
       "      <th>Does your employer provide mental health benefits as part of healthcare coverage?</th>\n",
       "      <th>Do you know the options for mental health care available under your employer-provided health coverage?</th>\n",
       "      <th>Has your employer ever formally discussed mental health (for example, as part of a wellness campaign or other official communication)?</th>\n",
       "      <th>Does your employer offer resources to learn more about mental health disorders and options for seeking help?</th>\n",
       "      <th>Is your anonymity protected if you choose to take advantage of mental health or substance abuse treatment resources provided by your employer?</th>\n",
       "      <th>If a mental health issue prompted you to request a medical leave from work, how easy or difficult would it be to ask for that leave?</th>\n",
       "      <th>...</th>\n",
       "      <th>Briefly describe what you think the industry as a whole and/or employers could do to improve mental health support for employees.</th>\n",
       "      <th>If there is anything else you would like to tell us that has not been covered by the survey questions, please use this space to do so.</th>\n",
       "      <th>Would you be willing to talk to one of us more extensively about your experiences with mental health issues in the tech industry? (Note that all interview responses would be used _anonymously_ and only with your permission.)</th>\n",
       "      <th>What is your age?</th>\n",
       "      <th>What is your gender?</th>\n",
       "      <th>What country do you *live* in?</th>\n",
       "      <th>What US state or territory do you *live* in?</th>\n",
       "      <th>What is your race?</th>\n",
       "      <th>What country do you *work* in?</th>\n",
       "      <th>What US state or territory do you *work* in?</th>\n",
       "    </tr>\n",
       "  </thead>\n",
       "  <tbody>\n",
       "    <tr>\n",
       "      <th>0</th>\n",
       "      <td>False</td>\n",
       "      <td>26-100</td>\n",
       "      <td>True</td>\n",
       "      <td>True</td>\n",
       "      <td>I don't know</td>\n",
       "      <td>No</td>\n",
       "      <td>Yes</td>\n",
       "      <td>Yes</td>\n",
       "      <td>I don't know</td>\n",
       "      <td>Very easy</td>\n",
       "      <td>...</td>\n",
       "      <td>NaN</td>\n",
       "      <td>NaN</td>\n",
       "      <td>False</td>\n",
       "      <td>25</td>\n",
       "      <td>Male</td>\n",
       "      <td>United States of America</td>\n",
       "      <td>Nebraska</td>\n",
       "      <td>White</td>\n",
       "      <td>United States of America</td>\n",
       "      <td>Nebraska</td>\n",
       "    </tr>\n",
       "    <tr>\n",
       "      <th>1</th>\n",
       "      <td>False</td>\n",
       "      <td>26-100</td>\n",
       "      <td>True</td>\n",
       "      <td>True</td>\n",
       "      <td>Yes</td>\n",
       "      <td>No</td>\n",
       "      <td>No</td>\n",
       "      <td>Yes</td>\n",
       "      <td>Yes</td>\n",
       "      <td>I don't know</td>\n",
       "      <td>...</td>\n",
       "      <td>NaN</td>\n",
       "      <td>NaN</td>\n",
       "      <td>False</td>\n",
       "      <td>51</td>\n",
       "      <td>male</td>\n",
       "      <td>United States of America</td>\n",
       "      <td>Nebraska</td>\n",
       "      <td>White</td>\n",
       "      <td>United States of America</td>\n",
       "      <td>Nebraska</td>\n",
       "    </tr>\n",
       "    <tr>\n",
       "      <th>2</th>\n",
       "      <td>False</td>\n",
       "      <td>26-100</td>\n",
       "      <td>True</td>\n",
       "      <td>True</td>\n",
       "      <td>I don't know</td>\n",
       "      <td>No</td>\n",
       "      <td>No</td>\n",
       "      <td>I don't know</td>\n",
       "      <td>I don't know</td>\n",
       "      <td>Somewhat difficult</td>\n",
       "      <td>...</td>\n",
       "      <td>I think opening up more conversation around th...</td>\n",
       "      <td>Thank you</td>\n",
       "      <td>True</td>\n",
       "      <td>27</td>\n",
       "      <td>Male</td>\n",
       "      <td>United States of America</td>\n",
       "      <td>Illinois</td>\n",
       "      <td>White</td>\n",
       "      <td>United States of America</td>\n",
       "      <td>Illinois</td>\n",
       "    </tr>\n",
       "    <tr>\n",
       "      <th>3</th>\n",
       "      <td>False</td>\n",
       "      <td>100-500</td>\n",
       "      <td>True</td>\n",
       "      <td>True</td>\n",
       "      <td>I don't know</td>\n",
       "      <td>No</td>\n",
       "      <td>Yes</td>\n",
       "      <td>Yes</td>\n",
       "      <td>Yes</td>\n",
       "      <td>Very easy</td>\n",
       "      <td>...</td>\n",
       "      <td>NaN</td>\n",
       "      <td>NaN</td>\n",
       "      <td>False</td>\n",
       "      <td>37</td>\n",
       "      <td>male</td>\n",
       "      <td>United States of America</td>\n",
       "      <td>Nebraska</td>\n",
       "      <td>White</td>\n",
       "      <td>United States of America</td>\n",
       "      <td>Nebraska</td>\n",
       "    </tr>\n",
       "    <tr>\n",
       "      <th>4</th>\n",
       "      <td>False</td>\n",
       "      <td>26-100</td>\n",
       "      <td>True</td>\n",
       "      <td>True</td>\n",
       "      <td>I don't know</td>\n",
       "      <td>No</td>\n",
       "      <td>I don't know</td>\n",
       "      <td>I don't know</td>\n",
       "      <td>I don't know</td>\n",
       "      <td>I don't know</td>\n",
       "      <td>...</td>\n",
       "      <td>NaN</td>\n",
       "      <td>NaN</td>\n",
       "      <td>False</td>\n",
       "      <td>46</td>\n",
       "      <td>m</td>\n",
       "      <td>United States of America</td>\n",
       "      <td>Nebraska</td>\n",
       "      <td>White</td>\n",
       "      <td>United States of America</td>\n",
       "      <td>Nebraska</td>\n",
       "    </tr>\n",
       "  </tbody>\n",
       "</table>\n",
       "<p>5 rows × 82 columns</p>\n",
       "</div>"
      ],
      "text/plain": [
       "   *Are you self-employed?*  \\\n",
       "0                     False   \n",
       "1                     False   \n",
       "2                     False   \n",
       "3                     False   \n",
       "4                     False   \n",
       "\n",
       "  How many employees does your company or organization have?  \\\n",
       "0                                             26-100           \n",
       "1                                             26-100           \n",
       "2                                             26-100           \n",
       "3                                            100-500           \n",
       "4                                             26-100           \n",
       "\n",
       "  Is your employer primarily a tech company/organization?  \\\n",
       "0                                               True        \n",
       "1                                               True        \n",
       "2                                               True        \n",
       "3                                               True        \n",
       "4                                               True        \n",
       "\n",
       "  Is your primary role within your company related to tech/IT?  \\\n",
       "0                                               True             \n",
       "1                                               True             \n",
       "2                                               True             \n",
       "3                                               True             \n",
       "4                                               True             \n",
       "\n",
       "  Does your employer provide mental health benefits as part of healthcare coverage?  \\\n",
       "0                                       I don't know                                  \n",
       "1                                                Yes                                  \n",
       "2                                       I don't know                                  \n",
       "3                                       I don't know                                  \n",
       "4                                       I don't know                                  \n",
       "\n",
       "  Do you know the options for mental health care available under your employer-provided health coverage?  \\\n",
       "0                                                 No                                                       \n",
       "1                                                 No                                                       \n",
       "2                                                 No                                                       \n",
       "3                                                 No                                                       \n",
       "4                                                 No                                                       \n",
       "\n",
       "  Has your employer ever formally discussed mental health (for example, as part of a wellness campaign or other official communication)?  \\\n",
       "0                                                Yes                                                                                       \n",
       "1                                                 No                                                                                       \n",
       "2                                                 No                                                                                       \n",
       "3                                                Yes                                                                                       \n",
       "4                                       I don't know                                                                                       \n",
       "\n",
       "  Does your employer offer resources to learn more about mental health disorders and options for seeking help?  \\\n",
       "0                                                Yes                                                             \n",
       "1                                                Yes                                                             \n",
       "2                                       I don't know                                                             \n",
       "3                                                Yes                                                             \n",
       "4                                       I don't know                                                             \n",
       "\n",
       "  Is your anonymity protected if you choose to take advantage of mental health or substance abuse treatment resources provided by your employer?  \\\n",
       "0                                       I don't know                                                                                               \n",
       "1                                                Yes                                                                                               \n",
       "2                                       I don't know                                                                                               \n",
       "3                                                Yes                                                                                               \n",
       "4                                       I don't know                                                                                               \n",
       "\n",
       "  If a mental health issue prompted you to request a medical leave from work, how easy or difficult would it be to ask for that leave?  \\\n",
       "0                                          Very easy                                                                                     \n",
       "1                                       I don't know                                                                                     \n",
       "2                                 Somewhat difficult                                                                                     \n",
       "3                                          Very easy                                                                                     \n",
       "4                                       I don't know                                                                                     \n",
       "\n",
       "   ...  \\\n",
       "0  ...   \n",
       "1  ...   \n",
       "2  ...   \n",
       "3  ...   \n",
       "4  ...   \n",
       "\n",
       "  Briefly describe what you think the industry as a whole and/or employers could do to improve mental health support for employees.  \\\n",
       "0                                                NaN                                                                                  \n",
       "1                                                NaN                                                                                  \n",
       "2  I think opening up more conversation around th...                                                                                  \n",
       "3                                                NaN                                                                                  \n",
       "4                                                NaN                                                                                  \n",
       "\n",
       "  If there is anything else you would like to tell us that has not been covered by the survey questions, please use this space to do so.  \\\n",
       "0                                                NaN                                                                                       \n",
       "1                                                NaN                                                                                       \n",
       "2                                          Thank you                                                                                       \n",
       "3                                                NaN                                                                                       \n",
       "4                                                NaN                                                                                       \n",
       "\n",
       "  Would you be willing to talk to one of us more extensively about your experiences with mental health issues in the tech industry? (Note that all interview responses would be used _anonymously_ and only with your permission.)  \\\n",
       "0                                              False                                                                                                                                                                                 \n",
       "1                                              False                                                                                                                                                                                 \n",
       "2                                               True                                                                                                                                                                                 \n",
       "3                                              False                                                                                                                                                                                 \n",
       "4                                              False                                                                                                                                                                                 \n",
       "\n",
       "  What is your age? What is your gender? What country do you *live* in?  \\\n",
       "0                25                 Male       United States of America   \n",
       "1                51                 male       United States of America   \n",
       "2                27                 Male       United States of America   \n",
       "3                37                 male       United States of America   \n",
       "4                46                    m       United States of America   \n",
       "\n",
       "  What US state or territory do you *live* in? What is your race?  \\\n",
       "0                                     Nebraska              White   \n",
       "1                                     Nebraska              White   \n",
       "2                                     Illinois              White   \n",
       "3                                     Nebraska              White   \n",
       "4                                     Nebraska              White   \n",
       "\n",
       "  What country do you *work* in?  What US state or territory do you *work* in?  \n",
       "0       United States of America                                      Nebraska  \n",
       "1       United States of America                                      Nebraska  \n",
       "2       United States of America                                      Illinois  \n",
       "3       United States of America                                      Nebraska  \n",
       "4       United States of America                                      Nebraska  \n",
       "\n",
       "[5 rows x 82 columns]"
      ]
     },
     "execution_count": 5,
     "metadata": {},
     "output_type": "execute_result"
    }
   ],
   "source": [
    "#Load dataset\n",
    "mentalhealth_original = pd.read_csv(\"/Users/jamesthompson/Documents/GitHub/Final-Project/Data/dataMH.csv\")\n",
    "mentalhealth_original.head()"
   ]
  },
  {
   "cell_type": "markdown",
   "id": "97329f01",
   "metadata": {},
   "source": [
    "## Recode Columm Names"
   ]
  },
  {
   "cell_type": "code",
   "execution_count": 6,
   "id": "9a3b2f45",
   "metadata": {},
   "outputs": [],
   "source": [
    "mentalhealth_original.rename(columns={\"*Are you self-employed?*\": \"SelfEmployed\",\n",
    "                   \"How many employees does your company or organization have?\": \"CompanySize\",\n",
    "                   \"Is your employer primarily a tech company/organization?\": \"TechCompany\",\n",
    "                   \"Is your primary role within your company related to tech/IT?\": \"TechRole\",\n",
    "                   \"Does your employer provide mental health benefits as part of healthcare coverage?\": \"MHcoverage\",\n",
    "                   \"Do you know the options for mental health care available under your employer-provided health coverage?\": \"AwarenessMHcareResources\",\n",
    "                   \"Has your employer ever formally discussed mental health (for example, as part of a wellness campaign or other official communication)?\": \"ERdiscussedMHformally\",\n",
    "                   \"Does your employer offer resources to learn more about mental health disorders and options for seeking help?\": \"ERofferMHresources\",\n",
    "                   \"Is your anonymity protected if you choose to take advantage of mental health or substance abuse treatment resources provided by your employer?\": \"AnonymityProtected\",\n",
    "                   \"If a mental health issue prompted you to request a medical leave from work, how easy or difficult would it be to ask for that leave?\": \"MHpromptWorkLeave\",\n",
    "                   \"Would you feel more comfortable talking to your coworkers about your physical health or your mental health?\": \"MoreComfortCoworkerDisc\",\n",
    "                   \"Would you feel comfortable discussing a mental health issue with your direct supervisor(s)?\": \"ComfortMHdiscSupervisor\",\n",
    "                   \"Have you ever discussed your mental health with your employer?\": \"DiscussMHwithER\",\n",
    "                   \"Would you feel comfortable discussing a mental health issue with your coworkers?\": \"ComfortMHdiscCoworker\",\n",
    "                   \"Have you ever discussed your mental health with coworkers?\": \"DiscussMHwithCoworker\",\n",
    "                   \"Overall, how much importance does your employer place on mental health?\": \"ERimportanceMH\",\n",
    "                   \"Do you have medical coverage (private insurance or state-provided) that includes treatment of mental health disorders?\": \"MedCovMH\",\n",
    "                   \"If you have been diagnosed or treated for a mental health disorder, do you ever reveal this to coworkers or employees?\": \"RevealMHdxCoworker\",\n",
    "                   \"Do you *currently* have a mental health disorder?\": \"CurrentMHdisorder\",\n",
    "                   \"Have you ever been *diagnosed* with a mental health disorder?\": \"MHdx\",\n",
    "                   \"*What disorder(s) have you been diagnosed with?*\": \"Dxdisorders\",\n",
    "                   \"*If possibly, what disorder(s) do you believe you have?*\": \"BelievedDisorders\",\n",
    "                   \"*If so, what disorder(s) were you diagnosed with?*\": \"ConfirmedDisorderDx\",\n",
    "                   \"If you have a mental health disorder, how often do you feel that it interferes with your work *when being treated effectively?*\": \"MHdoInterfereTreated\",\n",
    "                   \"If you have a mental health disorder, how often do you feel that it interferes with your work *when* _*NOT*_* being treated effectively (i.e., when you are experiencing symptoms)?*\": \"MHdoInterfereNotTreated\",\n",
    "                   \"Have your observations of how another individual who discussed a mental health issue made you less likely to reveal a mental health issue yourself in your current workplace?\": \"ObsLesslikelyRevealMHdx\",\n",
    "                   \"Are you openly identified at work as a person with a mental health issue?\": \"IdWithMHatWork\",\n",
    "                   \"Have you observed or experienced an *unsupportive or badly handled response* to a mental health issue in your current or previous workplace?\": \"MHunsupportedWP\",\n",
    "                   \"Have you observed or experienced a *supportive or well handled response* to a mental health issue in your current or previous workplace?\": \"MHsupportedWP\",\n",
    "                   \"Overall, how well do you think the tech industry supports employees with mental health issues?\":\"TechSupportedMH\",\n",
    "                   \"What is your age?\": \"Age\",\n",
    "                   \"What is your gender?\": \"Gender\",\n",
    "                   \"What country do you *live* in?\": \"LivingCountry\",\n",
    "                   \"What US state or territory do you *live* in?\": \"LivingState_Territory\",\n",
    "                   \"What is your race?\": \"Race\",\n",
    "                   \"What country do you *work* in?\": \"WorkingCountry\",\n",
    "                   \"What US state or territory do you *work* in?\": \"WorkingState_Territory\",\n",
    "                    \"Have you had a mental health disorder in the past?\": \"PastMHdx\"}, inplace=True)"
   ]
  },
  {
   "cell_type": "markdown",
   "id": "29567afd",
   "metadata": {},
   "source": [
    "## Subset Columns within Scope of Project"
   ]
  },
  {
   "cell_type": "code",
   "execution_count": 7,
   "id": "75acfefd",
   "metadata": {},
   "outputs": [],
   "source": [
    "mentalhealth = mentalhealth_original[[\"SelfEmployed\", \"CompanySize\", \"TechCompany\", \"TechRole\", \"MHcoverage\", \"AwarenessMHcareResources\", \n",
    "                                      \"ERdiscussedMHformally\", \"ERofferMHresources\", \"AnonymityProtected\", \"MHpromptWorkLeave\", \"MoreComfortCoworkerDisc\", \n",
    "                                      \"ComfortMHdiscSupervisor\", \"DiscussMHwithER\", \"ComfortMHdiscCoworker\", \"DiscussMHwithCoworker\", \"ERimportanceMH\", \"MedCovMH\", \n",
    "                                      \"RevealMHdxCoworker\", \"CurrentMHdisorder\", \"MHdx\", \"Dxdisorders\", \"BelievedDisorders\", \"ConfirmedDisorderDx\", \"PastMHdx\", \"MHdoInterfereTreated\",\n",
    "                                      \"MHdoInterfereNotTreated\", \"ObsLesslikelyRevealMHdx\", \"IdWithMHatWork\", \"MHunsupportedWP\", \"MHsupportedWP\", \"TechSupportedMH\",\n",
    "                                      \"Age\", \"Gender\", \"LivingCountry\", \"LivingState_Territory\", \"Race\", \"WorkingCountry\", \"WorkingState_Territory\"]]"
   ]
  },
  {
   "cell_type": "code",
   "execution_count": 8,
   "id": "5afc329d",
   "metadata": {},
   "outputs": [
    {
     "name": "stdout",
     "output_type": "stream",
     "text": [
      "SelfEmployed\n",
      "CompanySize\n",
      "TechCompany\n",
      "TechRole\n",
      "MHcoverage\n",
      "AwarenessMHcareResources\n",
      "ERdiscussedMHformally\n",
      "ERofferMHresources\n",
      "AnonymityProtected\n",
      "MHpromptWorkLeave\n",
      "MoreComfortCoworkerDisc\n",
      "ComfortMHdiscSupervisor\n",
      "DiscussMHwithER\n",
      "ComfortMHdiscCoworker\n",
      "DiscussMHwithCoworker\n",
      "ERimportanceMH\n",
      "MedCovMH\n",
      "RevealMHdxCoworker\n",
      "CurrentMHdisorder\n",
      "MHdx\n",
      "Dxdisorders\n",
      "BelievedDisorders\n",
      "ConfirmedDisorderDx\n",
      "PastMHdx\n",
      "MHdoInterfereTreated\n",
      "MHdoInterfereNotTreated\n",
      "ObsLesslikelyRevealMHdx\n",
      "IdWithMHatWork\n",
      "MHunsupportedWP\n",
      "MHsupportedWP\n",
      "TechSupportedMH\n",
      "Age\n",
      "Gender\n",
      "LivingCountry\n",
      "LivingState_Territory\n",
      "Race\n",
      "WorkingCountry\n",
      "WorkingState_Territory\n"
     ]
    }
   ],
   "source": [
    "# Check for accuracy in subsetting\n",
    "for col in mentalhealth.columns:\n",
    "    print(col)"
   ]
  },
  {
   "cell_type": "markdown",
   "id": "3fe7467b",
   "metadata": {},
   "source": [
    "## Missing values"
   ]
  },
  {
   "cell_type": "code",
   "execution_count": 9,
   "id": "7bd3fd67",
   "metadata": {},
   "outputs": [
    {
     "data": {
      "text/plain": [
       "SelfEmployed                  0\n",
       "CompanySize                  48\n",
       "TechCompany                  48\n",
       "TechRole                     48\n",
       "MHcoverage                   48\n",
       "AwarenessMHcareResources     74\n",
       "ERdiscussedMHformally        48\n",
       "ERofferMHresources           48\n",
       "AnonymityProtected           48\n",
       "MHpromptWorkLeave            48\n",
       "MoreComfortCoworkerDisc      48\n",
       "ComfortMHdiscSupervisor      48\n",
       "DiscussMHwithER              48\n",
       "ComfortMHdiscCoworker        48\n",
       "DiscussMHwithCoworker        51\n",
       "ERimportanceMH               48\n",
       "MedCovMH                    304\n",
       "RevealMHdxCoworker          304\n",
       "CurrentMHdisorder             0\n",
       "MHdx                        205\n",
       "Dxdisorders                 352\n",
       "BelievedDisorders           280\n",
       "ConfirmedDisorderDx         208\n",
       "PastMHdx                      3\n",
       "MHdoInterfereTreated          0\n",
       "MHdoInterfereNotTreated       0\n",
       "ObsLesslikelyRevealMHdx      70\n",
       "IdWithMHatWork                0\n",
       "MHunsupportedWP               0\n",
       "MHsupportedWP                 0\n",
       "TechSupportedMH               0\n",
       "Age                           0\n",
       "Gender                        5\n",
       "LivingCountry                 0\n",
       "LivingState_Territory       148\n",
       "Race                        148\n",
       "WorkingCountry                0\n",
       "WorkingState_Territory      148\n",
       "dtype: int64"
      ]
     },
     "execution_count": 9,
     "metadata": {},
     "output_type": "execute_result"
    }
   ],
   "source": [
    "#checking for large missing values for columns to be dropped:\n",
    "mentalhealth.isnull().sum()"
   ]
  },
  {
   "cell_type": "markdown",
   "id": "c80b83ea",
   "metadata": {},
   "source": [
    "#### Will drop the following colms due to low value counts: \n",
    "1. Dxdisorders\n",
    "2. IdWithMHatWorkR\n",
    "3. MedCovMH \n",
    "4. RevealMHdxCoworker \n",
    "5. BelievedDisorders \n",
    "6. MHdx \n",
    "7. ConfirmedDisorderDx\n",
    "\n",
    "\n",
    "\n",
    "#### Also dropping LivingCountry and LivingState_territory columns so staying within scope of project "
   ]
  },
  {
   "cell_type": "code",
   "execution_count": 10,
   "id": "6d5f5b41",
   "metadata": {},
   "outputs": [],
   "source": [
    "mentalhealth = mentalhealth[[\"SelfEmployed\", \"CompanySize\", \"TechCompany\", \"TechRole\", \"MHcoverage\", \"AwarenessMHcareResources\", \n",
    "                                      \"ERdiscussedMHformally\", \"ERofferMHresources\", \"AnonymityProtected\", \"MHpromptWorkLeave\", \"MoreComfortCoworkerDisc\", \n",
    "                                      \"ComfortMHdiscSupervisor\", \"DiscussMHwithER\", \"ComfortMHdiscCoworker\", \"DiscussMHwithCoworker\", \"ERimportanceMH\", \n",
    "                                      \"CurrentMHdisorder\",\"PastMHdx\", \"MHdoInterfereTreated\",\n",
    "                                      \"MHdoInterfereNotTreated\", \"ObsLesslikelyRevealMHdx\", \"MHunsupportedWP\", \"MHsupportedWP\", \"TechSupportedMH\",\n",
    "                                      \"Age\", \"Gender\", \"Race\", \"WorkingCountry\", \"WorkingState_Territory\"]]"
   ]
  },
  {
   "cell_type": "code",
   "execution_count": 11,
   "id": "4de6c8a1",
   "metadata": {},
   "outputs": [
    {
     "data": {
      "text/plain": [
       "SelfEmployed                  0\n",
       "CompanySize                  48\n",
       "TechCompany                  48\n",
       "TechRole                     48\n",
       "MHcoverage                   48\n",
       "AwarenessMHcareResources     74\n",
       "ERdiscussedMHformally        48\n",
       "ERofferMHresources           48\n",
       "AnonymityProtected           48\n",
       "MHpromptWorkLeave            48\n",
       "MoreComfortCoworkerDisc      48\n",
       "ComfortMHdiscSupervisor      48\n",
       "DiscussMHwithER              48\n",
       "ComfortMHdiscCoworker        48\n",
       "DiscussMHwithCoworker        51\n",
       "ERimportanceMH               48\n",
       "CurrentMHdisorder             0\n",
       "PastMHdx                      3\n",
       "MHdoInterfereTreated          0\n",
       "MHdoInterfereNotTreated       0\n",
       "ObsLesslikelyRevealMHdx      70\n",
       "MHunsupportedWP               0\n",
       "MHsupportedWP                 0\n",
       "TechSupportedMH               0\n",
       "Age                           0\n",
       "Gender                        5\n",
       "Race                        148\n",
       "WorkingCountry                0\n",
       "WorkingState_Territory      148\n",
       "dtype: int64"
      ]
     },
     "execution_count": 11,
     "metadata": {},
     "output_type": "execute_result"
    }
   ],
   "source": [
    "#checking the columns have dropped\n",
    "\n",
    "mentalhealth.isnull().sum()"
   ]
  },
  {
   "cell_type": "markdown",
   "id": "0d6013fe",
   "metadata": {},
   "source": [
    "## Recode Columns"
   ]
  },
  {
   "cell_type": "code",
   "execution_count": 12,
   "id": "464e2cba",
   "metadata": {},
   "outputs": [],
   "source": [
    "#Recode columns with yes, no, etc.\n",
    "def recode (MHcoverage):\n",
    "    if MHcoverage == \"Yes\":\n",
    "        return 0\n",
    "    if MHcoverage == \"No\":\n",
    "        return 1\n",
    "    if MHcoverage == \"I don't know\":\n",
    "        return 2\n",
    "    if MHcoverage == \"Not eligible for coverage / NA\":\n",
    "        return 3\n",
    "    if MHcoverage == \"Maybe\":\n",
    "        return 4\n",
    "mentalhealth['MHcoverageR'] = mentalhealth['MHcoverage'].apply(recode)"
   ]
  },
  {
   "cell_type": "markdown",
   "id": "07da01dd",
   "metadata": {},
   "source": [
    "#### Verifying Recode"
   ]
  },
  {
   "cell_type": "code",
   "execution_count": 13,
   "id": "6513fee3",
   "metadata": {},
   "outputs": [
    {
     "data": {
      "text/plain": [
       "Yes                               164\n",
       "I don't know                       87\n",
       "No                                 35\n",
       "Not eligible for coverage / NA     18\n",
       "Name: MHcoverage, dtype: int64"
      ]
     },
     "execution_count": 13,
     "metadata": {},
     "output_type": "execute_result"
    }
   ],
   "source": [
    "mentalhealth.MHcoverage.value_counts()"
   ]
  },
  {
   "cell_type": "code",
   "execution_count": 14,
   "id": "56b09e8a",
   "metadata": {},
   "outputs": [
    {
     "data": {
      "text/plain": [
       "0.0    164\n",
       "2.0     87\n",
       "1.0     35\n",
       "3.0     18\n",
       "Name: MHcoverageR, dtype: int64"
      ]
     },
     "execution_count": 14,
     "metadata": {},
     "output_type": "execute_result"
    }
   ],
   "source": [
    "mentalhealth.MHcoverageR.value_counts()"
   ]
  },
  {
   "cell_type": "code",
   "execution_count": 15,
   "id": "bb6d8f32",
   "metadata": {},
   "outputs": [],
   "source": [
    "mentalhealth['AwarenessMHcareResourcesR'] = mentalhealth['AwarenessMHcareResources'].apply(recode)\n",
    "mentalhealth['ERdiscussedMHformallyR'] = mentalhealth['ERdiscussedMHformally'].apply(recode)\n",
    "mentalhealth['ERofferMHresourcesR'] = mentalhealth['ERofferMHresources'].apply(recode)\n",
    "mentalhealth['AnonymityProtectedR'] = mentalhealth['AnonymityProtected'].apply(recode)"
   ]
  },
  {
   "cell_type": "code",
   "execution_count": 16,
   "id": "24f9a4e2",
   "metadata": {},
   "outputs": [],
   "source": [
    "#Recode columns with yes, no, etc.\n",
    "def recode (MHpromptWorkLeave):\n",
    "    if MHpromptWorkLeave == \"Very easy\":\n",
    "        return 0\n",
    "    if MHpromptWorkLeave == \"Difficult\":\n",
    "        return 1\n",
    "    if MHpromptWorkLeave == \"I don't know\":\n",
    "        return 2\n",
    "    if MHpromptWorkLeave == \"Neither easy nor difficult\":\n",
    "        return 3\n",
    "    if MHpromptWorkLeave == \"Somewhat difficult\":\n",
    "        return 4\n",
    "    if MHpromptWorkLeave == \"Somewhat easy\":\n",
    "        return 5\n",
    "mentalhealth['MHpromptWorkLeaveR'] = mentalhealth['MHpromptWorkLeave'].apply(recode)"
   ]
  },
  {
   "cell_type": "markdown",
   "id": "92ebfe3b",
   "metadata": {},
   "source": [
    "#### Verifying Recode"
   ]
  },
  {
   "cell_type": "code",
   "execution_count": 17,
   "id": "d0ee9225",
   "metadata": {},
   "outputs": [
    {
     "data": {
      "text/plain": [
       "Somewhat easy                 83\n",
       "Very easy                     70\n",
       "I don't know                  52\n",
       "Somewhat difficult            49\n",
       "Neither easy nor difficult    31\n",
       "Difficult                     19\n",
       "Name: MHpromptWorkLeave, dtype: int64"
      ]
     },
     "execution_count": 17,
     "metadata": {},
     "output_type": "execute_result"
    }
   ],
   "source": [
    "mentalhealth.MHpromptWorkLeave.value_counts()"
   ]
  },
  {
   "cell_type": "code",
   "execution_count": 18,
   "id": "4c3c4739",
   "metadata": {},
   "outputs": [
    {
     "data": {
      "text/plain": [
       "5.0    83\n",
       "0.0    70\n",
       "2.0    52\n",
       "4.0    49\n",
       "3.0    31\n",
       "1.0    19\n",
       "Name: MHpromptWorkLeaveR, dtype: int64"
      ]
     },
     "execution_count": 18,
     "metadata": {},
     "output_type": "execute_result"
    }
   ],
   "source": [
    "mentalhealth.MHpromptWorkLeaveR.value_counts()"
   ]
  },
  {
   "cell_type": "code",
   "execution_count": 19,
   "id": "a2896065",
   "metadata": {},
   "outputs": [],
   "source": [
    "#Recode columns with responses, etc.\n",
    "def recode (MHunsupportedWP):\n",
    "    if MHunsupportedWP == \"Maybe/Not sure\":\n",
    "        return 0\n",
    "    if MHunsupportedWP == \"Yes, I experienced\":\n",
    "        return 1\n",
    "    if MHunsupportedWP == \"Yes, I observed\":\n",
    "        return 2\n",
    "    if MHunsupportedWP == \"No\":\n",
    "        return 3\n",
    "    if MHunsupportedWP == \"I've always been self-employed\":\n",
    "        return 4\n",
    "mentalhealth['MHunsupportedWPR'] = mentalhealth['MHunsupportedWP'].apply(recode)"
   ]
  },
  {
   "cell_type": "markdown",
   "id": "b138f784",
   "metadata": {},
   "source": [
    "#### Verifying Recode"
   ]
  },
  {
   "cell_type": "code",
   "execution_count": 21,
   "id": "5581f08b",
   "metadata": {},
   "outputs": [
    {
     "data": {
      "text/plain": [
       "3    139\n",
       "0     90\n",
       "2     67\n",
       "1     53\n",
       "4      3\n",
       "Name: MHunsupportedWPR, dtype: int64"
      ]
     },
     "execution_count": 21,
     "metadata": {},
     "output_type": "execute_result"
    }
   ],
   "source": [
    "mentalhealth.MHunsupportedWPR.value_counts()"
   ]
  },
  {
   "cell_type": "code",
   "execution_count": 22,
   "id": "2efb9a03",
   "metadata": {},
   "outputs": [
    {
     "data": {
      "text/plain": [
       "No                                139\n",
       "Maybe/Not sure                     90\n",
       "Yes, I observed                    67\n",
       "Yes, I experienced                 53\n",
       "I've always been self-employed      3\n",
       "Name: MHunsupportedWP, dtype: int64"
      ]
     },
     "execution_count": 22,
     "metadata": {},
     "output_type": "execute_result"
    }
   ],
   "source": [
    "mentalhealth.MHunsupportedWP.value_counts()"
   ]
  },
  {
   "cell_type": "code",
   "execution_count": 23,
   "id": "f58d3988",
   "metadata": {},
   "outputs": [],
   "source": [
    "#Recode columns: Race\n",
    "def recode (Race):\n",
    "    if Race == \"Asian\":\n",
    "        return 0\n",
    "    if Race == \"Black or African American\":\n",
    "        return 1\n",
    "    if Race == \"Caucasian\":\n",
    "        return 2\n",
    "    if Race == \"European American\":\n",
    "        return 3\n",
    "    if Race == \"Hispanic\":\n",
    "        return 4\n",
    "    if Race == \"I prefer not to answer\":\n",
    "        return 5\n",
    "    if Race == \"More than one of the above\":\n",
    "        return 6\n",
    "    if Race == \"White\":\n",
    "        return 7\n",
    "    if Race == \"White Hispanic\":\n",
    "        return 8\n",
    "mentalhealth['RaceR'] = mentalhealth['Race'].apply(recode)"
   ]
  },
  {
   "cell_type": "code",
   "execution_count": 24,
   "id": "c4f72266",
   "metadata": {},
   "outputs": [],
   "source": [
    "#Recode columns: WorkingCountry (United States of America & Other)\n",
    "def recode (WorkingCountry):\n",
    "    if WorkingCountry == \"United States of America\":\n",
    "        return 0\n",
    "    if WorkingCountry == \"Canada\":\n",
    "        return 1\n",
    "    if WorkingCountry == \"Afghanistan\":\n",
    "        return 1\n",
    "    if WorkingCountry == \"Algeria\":\n",
    "        return 1\n",
    "    if WorkingCountry == \"Australia\":\n",
    "        return 1\n",
    "    if WorkingCountry == \"Belgium\":\n",
    "        return 1\n",
    "    if WorkingCountry == \"Brazil\":\n",
    "        return 1\n",
    "    if WorkingCountry == \"Croatia\":\n",
    "        return 1\n",
    "    if WorkingCountry == \"Estonia\":\n",
    "        return 1\n",
    "    if WorkingCountry == \"France\":\n",
    "        return 1\n",
    "    if WorkingCountry == \"Germany\":\n",
    "        return 1\n",
    "    if WorkingCountry == \"Ghana\":\n",
    "        return 1\n",
    "    if WorkingCountry == \"Greece\":\n",
    "        return 1\n",
    "    if WorkingCountry == \"Hong Kong\":\n",
    "        return 1\n",
    "    if WorkingCountry == \"India\":\n",
    "        return 1\n",
    "    if WorkingCountry == \"Indonesia\":\n",
    "        return 1\n",
    "    if WorkingCountry == \"Ireland\":\n",
    "        return 1\n",
    "    if WorkingCountry == \"Israel\":\n",
    "        return 1\n",
    "    if WorkingCountry == \"Italy\":\n",
    "        return 1\n",
    "    if WorkingCountry == \"Japan\":\n",
    "        return 1\n",
    "    if WorkingCountry == \"Mexico\":\n",
    "        return 1\n",
    "    if WorkingCountry == \"Netherlands\":\n",
    "        return 1\n",
    "    if WorkingCountry == \"New Zealand\":\n",
    "        return 1\n",
    "    if WorkingCountry == \"Norway\":\n",
    "        return 1\n",
    "    if WorkingCountry == \"Pakistan\":\n",
    "        return 1\n",
    "    if WorkingCountry == \"Poland\":\n",
    "        return 1\n",
    "    if WorkingCountry == \"Portugal\":\n",
    "        return 1\n",
    "    if WorkingCountry == \"South Africa\":\n",
    "        return 1\n",
    "    if WorkingCountry == \"Spain\":\n",
    "        return 1\n",
    "    if WorkingCountry == \"Switzerland\":\n",
    "        return 1\n",
    "    if WorkingCountry == \"Turkey\":\n",
    "        return 1\n",
    "    if WorkingCountry == \"United Kingdom\":\n",
    "        return 1\n",
    "    if WorkingCountry == \"Botswana\":\n",
    "        return 1\n",
    "    if WorkingCountry == \"Other\":\n",
    "        return 1\n",
    "    if WorkingCountry == \"Austria\":\n",
    "        return 1\n",
    "mentalhealth['WorkingCountryR'] = mentalhealth['WorkingCountry'].apply(recode)"
   ]
  },
  {
   "cell_type": "markdown",
   "id": "f6235000",
   "metadata": {},
   "source": [
    "#### Verifying Recode"
   ]
  },
  {
   "cell_type": "code",
   "execution_count": 26,
   "id": "9e10999c",
   "metadata": {},
   "outputs": [
    {
     "data": {
      "text/plain": [
       "array([0, 1])"
      ]
     },
     "execution_count": 26,
     "metadata": {},
     "output_type": "execute_result"
    }
   ],
   "source": [
    "mentalhealth.WorkingCountryR.unique()"
   ]
  },
  {
   "cell_type": "code",
   "execution_count": 25,
   "id": "56706184",
   "metadata": {},
   "outputs": [],
   "source": [
    "#recoding WorkingCountry into two categories: USA and Other\n",
    "def recode (WorkingCountry):\n",
    "    if WorkingCountry == \"United States of America\":\n",
    "        return \"USA\"\n",
    "    if WorkingCountry == \"Canada\":\n",
    "        return \"Other\"\n",
    "    if WorkingCountry == \"Afghanistan\":\n",
    "        return \"Other\"\n",
    "    if WorkingCountry == \"Algeria\":\n",
    "        return \"Other\"\n",
    "    if WorkingCountry == \"Australia\":\n",
    "        return \"Other\"\n",
    "    if WorkingCountry == \"Belgium\":\n",
    "        return \"Other\"\n",
    "    if WorkingCountry == \"Brazil\":\n",
    "        return \"Other\"\n",
    "    if WorkingCountry == \"Croatia\":\n",
    "        return \"Other\"\n",
    "    if WorkingCountry == \"Estonia\":\n",
    "        return \"Other\"\n",
    "    if WorkingCountry == \"France\":\n",
    "        return \"Other\"\n",
    "    if WorkingCountry == \"Germany\":\n",
    "        return \"Other\"\n",
    "    if WorkingCountry == \"Ghana\":\n",
    "        return \"Other\"\n",
    "    if WorkingCountry == \"Greece\":\n",
    "        return \"Other\"\n",
    "    if WorkingCountry == \"Hong Kong\":\n",
    "        return \"Other\"\n",
    "    if WorkingCountry == \"India\":\n",
    "        return \"Other\"\n",
    "    if WorkingCountry == \"Indonesia\":\n",
    "        return \"Other\"\n",
    "    if WorkingCountry == \"Ireland\":\n",
    "        return \"Other\"\n",
    "    if WorkingCountry == \"Israel\":\n",
    "        return \"Other\"\n",
    "    if WorkingCountry == \"Italy\":\n",
    "        return \"Other\"\n",
    "    if WorkingCountry == \"Japan\":\n",
    "        return \"Other\"\n",
    "    if WorkingCountry == \"Mexico\":\n",
    "        return \"Other\"\n",
    "    if WorkingCountry == \"Netherlands\":\n",
    "        return \"Other\"\n",
    "    if WorkingCountry == \"New Zealand\":\n",
    "        return \"Other\"\n",
    "    if WorkingCountry == \"Norway\":\n",
    "        return \"Other\"\n",
    "    if WorkingCountry == \"Pakistan\":\n",
    "        return \"Other\"\n",
    "    if WorkingCountry == \"Poland\":\n",
    "        return \"Other\"\n",
    "    if WorkingCountry == \"Portugal\":\n",
    "        return \"Other\"\n",
    "    if WorkingCountry == \"South Africa\":\n",
    "        return \"Other\"\n",
    "    if WorkingCountry == \"Spain\":\n",
    "        return \"Other\"\n",
    "    if WorkingCountry == \"Switzerland\":\n",
    "        return \"Other\"\n",
    "    if WorkingCountry == \"Turkey\":\n",
    "        return \"Other\"\n",
    "    if WorkingCountry == \"United Kingdom\":\n",
    "        return \"Other\"\n",
    "    if WorkingCountry == \"Botswana\":\n",
    "        return \"Other\"\n",
    "    if WorkingCountry == \"Other\":\n",
    "        return \"Other\"\n",
    "    if WorkingCountry == \"Austria\":\n",
    "        return \"Other\"\n",
    "    \n",
    "mentalhealth['WorkingCountry'] = mentalhealth['WorkingCountry'].apply(recode)"
   ]
  },
  {
   "cell_type": "markdown",
   "id": "24f96a27",
   "metadata": {},
   "source": [
    "#### Verifying Recode"
   ]
  },
  {
   "cell_type": "code",
   "execution_count": 28,
   "id": "a1068b32",
   "metadata": {},
   "outputs": [
    {
     "data": {
      "text/plain": [
       "array(['USA', 'Other'], dtype=object)"
      ]
     },
     "execution_count": 28,
     "metadata": {},
     "output_type": "execute_result"
    }
   ],
   "source": [
    "mentalhealth.WorkingCountry.unique()"
   ]
  },
  {
   "cell_type": "code",
   "execution_count": 29,
   "id": "d3a8db18",
   "metadata": {},
   "outputs": [],
   "source": [
    "#Recode columns: WorkingState (Northeast = 1, Southeast = 2, West = 3, Southwest = 4, Midwest = 5)\n",
    "def recode (WorkingState):\n",
    "    if WorkingState == \"Alabama\":\n",
    "        return 2\n",
    "    if WorkingState == \"Alaska\":\n",
    "        return 3\n",
    "    if WorkingState == \"Arizona\":\n",
    "        return 4\n",
    "    if WorkingState == \"California\":\n",
    "        return 3\n",
    "    if WorkingState == \"Colorado\":\n",
    "        return 5\n",
    "    if WorkingState == \"Connecticut\":\n",
    "        return 1\n",
    "    if WorkingState == \"District of Columbia\":\n",
    "        return 1\n",
    "    if WorkingState == \"Florida\":\n",
    "        return 2\n",
    "    if WorkingState == \"Georgia\":\n",
    "        return 2\n",
    "    if WorkingState == \"Idaho\":\n",
    "        return 3\n",
    "    if WorkingState == \"Illinois\":\n",
    "        return 5\n",
    "    if WorkingState == \"Indiana\":\n",
    "        return 5\n",
    "    if WorkingState == \"Iowa\":\n",
    "        return 5\n",
    "    if WorkingState == \"Kansas\":\n",
    "        return 5\n",
    "    if WorkingState == \"Louisiana\":\n",
    "        return 2\n",
    "    if WorkingState == \"Maine\":\n",
    "        return 1\n",
    "    if WorkingState == \"Maryland\":\n",
    "        return 1\n",
    "    if WorkingState == \"Massachusetts\":\n",
    "        return 1\n",
    "    if WorkingState == \"Michigan\":\n",
    "        return 5\n",
    "    if WorkingState == \"Minnesota\":\n",
    "        return 5\n",
    "    if WorkingState == \"Missouri\":\n",
    "        return 5\n",
    "    if WorkingState == \"Nebraska\":\n",
    "        return 5\n",
    "    if WorkingState == \"New Jersey\":\n",
    "        return 1\n",
    "    if WorkingState == \"New York\":\n",
    "        return 1\n",
    "    if WorkingState == \"North Carolina\":\n",
    "        return 2\n",
    "    if WorkingState == \"Ohio\":\n",
    "        return 5\n",
    "    if WorkingState == \"Oklahoma\":\n",
    "        return 4\n",
    "    if WorkingState == \"Oregon\":\n",
    "        return 3\n",
    "    if WorkingState == \"Pennsylvania\":\n",
    "        return 1\n",
    "    if WorkingState == \"South Carolina\":\n",
    "        return 2\n",
    "    if WorkingState == \"Tennessee\":\n",
    "        return 2\n",
    "    if WorkingState == \"Texas\":\n",
    "        return 4\n",
    "    if WorkingState == \"Utah\":\n",
    "        return 3\n",
    "    if WorkingState == \"Vermont\":\n",
    "        return 1\n",
    "    if WorkingState == \"Virginia\":\n",
    "        return 4\n",
    "    if WorkingState == \"Washington\":\n",
    "        return 3\n",
    "    if WorkingState == \"Wisconsin\":\n",
    "        return 5\n",
    "    if WorkingState == \"Wyoming\":\n",
    "        return 3\n",
    "    else:\n",
    "        return 0\n",
    "\n",
    "mentalhealth['WorkingStateR'] = mentalhealth['WorkingState_Territory'].apply(recode)"
   ]
  },
  {
   "cell_type": "code",
   "execution_count": 30,
   "id": "a27bd96a",
   "metadata": {},
   "outputs": [],
   "source": [
    "#recoding WorkingState_Territory into regions\n",
    "\n",
    "def recode (WorkingState):\n",
    "    if WorkingState == \"Alabama\":\n",
    "        return \"southeast\"\n",
    "    if WorkingState == \"Alaska\":\n",
    "        return \"west\"\n",
    "    if WorkingState == \"Arizona\":\n",
    "        return \"southwest\"\n",
    "    if WorkingState == \"California\":\n",
    "        return \"west\"\n",
    "    if WorkingState == \"Colorado\":\n",
    "        return \"midwest\"\n",
    "    if WorkingState == \"Connecticut\":\n",
    "        return \"northeast\"\n",
    "    if WorkingState == \"District of Columbia\":\n",
    "        return \"northeast\"\n",
    "    if WorkingState == \"Florida\":\n",
    "        return \"southeast\"\n",
    "    if WorkingState == \"Georgia\":\n",
    "        return \"southeast\"\n",
    "    if WorkingState == \"Idaho\":\n",
    "        return \"west\"\n",
    "    if WorkingState == \"Illinois\":\n",
    "        return \"midwest\"\n",
    "    if WorkingState == \"Indiana\":\n",
    "        return \"midwest\"\n",
    "    if WorkingState == \"Iowa\":\n",
    "        return \"midwest\"\n",
    "    if WorkingState == \"Kansas\":\n",
    "        return \"midwest\"\n",
    "    if WorkingState == \"Louisiana\":\n",
    "        return \"southeast\"\n",
    "    if WorkingState == \"Maine\":\n",
    "        return \"northeast\"\n",
    "    if WorkingState == \"Maryland\":\n",
    "        return \"northeast\"\n",
    "    if WorkingState == \"Massachusetts\":\n",
    "        return \"northeast\"\n",
    "    if WorkingState == \"Michigan\":\n",
    "        return \"midwest\"\n",
    "    if WorkingState == \"Minnesota\":\n",
    "        return \"midwest\"\n",
    "    if WorkingState == \"Missouri\":\n",
    "        return \"midwest\"\n",
    "    if WorkingState == \"Nebraska\":\n",
    "        return \"midwest\"\n",
    "    if WorkingState == \"New Jersey\":\n",
    "        return \"northeast\"\n",
    "    if WorkingState == \"New York\":\n",
    "        return \"northeast\"\n",
    "    if WorkingState == \"North Carolina\":\n",
    "        return \"southeast\"\n",
    "    if WorkingState == \"Ohio\":\n",
    "        return \"midwest\"\n",
    "    if WorkingState == \"Oklahoma\":\n",
    "        return \"southwest\"\n",
    "    if WorkingState == \"Oregon\":\n",
    "        return \"west\"\n",
    "    if WorkingState == \"Pennsylvania\":\n",
    "        return \"northeast\"\n",
    "    if WorkingState == \"South Carolina\":\n",
    "        return \"southeast\"\n",
    "    if WorkingState == \"Tennessee\":\n",
    "        return \"southeast\"\n",
    "    if WorkingState == \"Texas\":\n",
    "        return \"southwest\"\n",
    "    if WorkingState == \"Utah\":\n",
    "        return \"west\"\n",
    "    if WorkingState == \"Vermont\":\n",
    "        return \"northeast\"\n",
    "    if WorkingState == \"Virginia\":\n",
    "        return \"southwest\"\n",
    "    if WorkingState == \"Washington\":\n",
    "        return \"west\"\n",
    "    if WorkingState == \"Wisconsin\":\n",
    "        return \"midwest\"\n",
    "    if WorkingState == \"Wyoming\":\n",
    "        return \"west\"\n",
    "    else:\n",
    "        return \"unknown\"\n",
    "\n",
    "mentalhealth['WorkingState_Territory'] = mentalhealth['WorkingState_Territory'].apply(recode)"
   ]
  },
  {
   "cell_type": "markdown",
   "id": "e15f424c",
   "metadata": {},
   "source": [
    "#### Verifying Recode"
   ]
  },
  {
   "cell_type": "code",
   "execution_count": 31,
   "id": "dd29b417",
   "metadata": {},
   "outputs": [
    {
     "data": {
      "text/plain": [
       "array(['midwest', 'unknown', 'northeast', 'southeast', 'west',\n",
       "       'southwest'], dtype=object)"
      ]
     },
     "execution_count": 31,
     "metadata": {},
     "output_type": "execute_result"
    }
   ],
   "source": [
    "mentalhealth.WorkingState_Territory.unique()"
   ]
  },
  {
   "cell_type": "code",
   "execution_count": 32,
   "id": "3cd4d87d",
   "metadata": {},
   "outputs": [],
   "source": [
    "#Recode CurrentMHdisorder\n",
    "# Yes, No, Possibly, Don't Know\n",
    "def recode (Current):\n",
    "    if Current == \"Yes\":\n",
    "        return 0\n",
    "    if Current == \"No\":\n",
    "        return 1\n",
    "    if Current == \"Don't Know\":\n",
    "        return 2\n",
    "    if Current == \"Possibly\":\n",
    "        return 3\n",
    "mentalhealth['CurrentMHdisorderR'] = mentalhealth['CurrentMHdisorder'].apply(recode)"
   ]
  },
  {
   "cell_type": "code",
   "execution_count": 33,
   "id": "4d929e42",
   "metadata": {},
   "outputs": [],
   "source": [
    "# recoding ObsLesslikely...\n",
    "def recode (Current):\n",
    "    if Current == \"Yes\":\n",
    "        return 0\n",
    "    if Current == \"No\":\n",
    "        return 1\n",
    "    if Current == \"N/A\":\n",
    "        return 2\n",
    "    if Current == \"Maybe\":\n",
    "        return 4\n",
    "mentalhealth['ObsLesslikelyRevealMHdxR'] = mentalhealth['ObsLesslikelyRevealMHdx'].apply(recode)"
   ]
  },
  {
   "cell_type": "code",
   "execution_count": 34,
   "id": "dff3f7be",
   "metadata": {},
   "outputs": [],
   "source": [
    "# Recode True/False Columns\n",
    "\n",
    "mentalhealth['SelfEmployed'].replace({False: 0, True: 1}, inplace=True)\n",
    "mentalhealth['TechCompany'].replace({False: 0, True: 1}, inplace=True)\n",
    "mentalhealth['TechRole'].replace({False: 0, True: 1}, inplace=True)"
   ]
  },
  {
   "cell_type": "code",
   "execution_count": 35,
   "id": "4a6397b4",
   "metadata": {},
   "outputs": [],
   "source": [
    "#Compile Gender\n",
    "\n",
    "mentalhealth['Gender'].replace(['Male', 'male', 'm', 'M', 'Let\\'s keep it simple and say \"male\"', 'man', 'masculino', 'Identify as male', 'Male ', 'Masculine', 'Cishet male', 'Man', 'Cis Male', 'cis male', 'I have a penis', 'Make', 'CIS Male'], 'Male', inplace=True)\n",
    "mentalhealth['Gender'].replace(['female', 'F', 'Woman', 'f', 'Female ', 'Femina', 'cis woman', 'woman', 'Femile','femmina','Female-identified', 'Female','Female (cis)'], 'Female', inplace=True)\n",
    "mentalhealth['Gender'].replace(['nan', 'Non-binary', 'Non binary', 'None', 'Nonbinary', 'agender', 'Questioning', '43', 'rr', 'Agender trans woman', 'Trans man', 'I am a Wookie', 'Trans non-binary/genderfluid','Non-binary and gender fluid'], 'Other', inplace=True)"
   ]
  },
  {
   "cell_type": "markdown",
   "id": "9e3cd4c7",
   "metadata": {},
   "source": [
    "#### Verifying Recode"
   ]
  },
  {
   "cell_type": "code",
   "execution_count": 36,
   "id": "1e3b57d2",
   "metadata": {},
   "outputs": [
    {
     "data": {
      "text/plain": [
       "array(['Male', 'Female', nan, 'Other'], dtype=object)"
      ]
     },
     "execution_count": 36,
     "metadata": {},
     "output_type": "execute_result"
    }
   ],
   "source": [
    "mentalhealth.Gender.unique()"
   ]
  },
  {
   "cell_type": "code",
   "execution_count": 37,
   "id": "7ad3d37e",
   "metadata": {},
   "outputs": [],
   "source": [
    "# Recode category gender to numeric\n",
    "def recode (Gender):\n",
    "    if Gender == \"Male\":\n",
    "        return 0\n",
    "    if Gender == \"Female\":\n",
    "        return 1\n",
    "    if Gender == \"Other\":\n",
    "        return 2\n",
    "    \n",
    "mentalhealth['GenderR'] = mentalhealth['Gender'].apply(recode)"
   ]
  },
  {
   "cell_type": "code",
   "execution_count": 38,
   "id": "8e409dfd",
   "metadata": {},
   "outputs": [],
   "source": [
    "# Recode Company Size\n",
    "\n",
    "def recode (CompanySize):\n",
    "    if CompanySize == \"1-5\":\n",
    "        return 0\n",
    "    if CompanySize == \"6-25\":\n",
    "        return 1\n",
    "    if CompanySize == \"26-100\":\n",
    "        return 2\n",
    "    if CompanySize == \"100-500\":\n",
    "        return 3\n",
    "    if CompanySize == \"500-1000\":\n",
    "        return 4\n",
    "    if CompanySize == \"More than 1000\":\n",
    "        return 5\n",
    "\n",
    "    \n",
    "mentalhealth['CompanySizeR'] = mentalhealth['CompanySize'].apply(recode)"
   ]
  },
  {
   "cell_type": "markdown",
   "id": "12b3ec22",
   "metadata": {},
   "source": [
    "#### Verifying entire dataset recoded properly"
   ]
  },
  {
   "cell_type": "code",
   "execution_count": 40,
   "id": "20fb9f4c",
   "metadata": {},
   "outputs": [
    {
     "name": "stdout",
     "output_type": "stream",
     "text": [
      "<class 'pandas.core.frame.DataFrame'>\n",
      "RangeIndex: 352 entries, 0 to 351\n",
      "Data columns (total 43 columns):\n",
      " #   Column                     Non-Null Count  Dtype  \n",
      "---  ------                     --------------  -----  \n",
      " 0   SelfEmployed               352 non-null    int64  \n",
      " 1   CompanySize                304 non-null    object \n",
      " 2   TechCompany                304 non-null    float64\n",
      " 3   TechRole                   304 non-null    float64\n",
      " 4   MHcoverage                 304 non-null    object \n",
      " 5   AwarenessMHcareResources   278 non-null    object \n",
      " 6   ERdiscussedMHformally      304 non-null    object \n",
      " 7   ERofferMHresources         304 non-null    object \n",
      " 8   AnonymityProtected         304 non-null    object \n",
      " 9   MHpromptWorkLeave          304 non-null    object \n",
      " 10  MoreComfortCoworkerDisc    304 non-null    object \n",
      " 11  ComfortMHdiscSupervisor    304 non-null    object \n",
      " 12  DiscussMHwithER            304 non-null    object \n",
      " 13  ComfortMHdiscCoworker      304 non-null    object \n",
      " 14  DiscussMHwithCoworker      301 non-null    object \n",
      " 15  ERimportanceMH             304 non-null    float64\n",
      " 16  CurrentMHdisorder          352 non-null    object \n",
      " 17  PastMHdx                   349 non-null    object \n",
      " 18  MHdoInterfereTreated       352 non-null    object \n",
      " 19  MHdoInterfereNotTreated    352 non-null    object \n",
      " 20  ObsLesslikelyRevealMHdx    282 non-null    object \n",
      " 21  MHunsupportedWP            352 non-null    object \n",
      " 22  MHsupportedWP              352 non-null    object \n",
      " 23  TechSupportedMH            352 non-null    int64  \n",
      " 24  Age                        352 non-null    int64  \n",
      " 25  Gender                     347 non-null    object \n",
      " 26  Race                       204 non-null    object \n",
      " 27  WorkingCountry             352 non-null    object \n",
      " 28  WorkingState_Territory     352 non-null    object \n",
      " 29  MHcoverageR                304 non-null    float64\n",
      " 30  AwarenessMHcareResourcesR  278 non-null    float64\n",
      " 31  ERdiscussedMHformallyR     304 non-null    float64\n",
      " 32  ERofferMHresourcesR        304 non-null    float64\n",
      " 33  AnonymityProtectedR        304 non-null    float64\n",
      " 34  MHpromptWorkLeaveR         304 non-null    float64\n",
      " 35  MHunsupportedWPR           352 non-null    int64  \n",
      " 36  RaceR                      204 non-null    float64\n",
      " 37  WorkingCountryR            352 non-null    int64  \n",
      " 38  WorkingStateR              352 non-null    int64  \n",
      " 39  CurrentMHdisorderR         352 non-null    int64  \n",
      " 40  ObsLesslikelyRevealMHdxR   282 non-null    float64\n",
      " 41  GenderR                    347 non-null    float64\n",
      " 42  CompanySizeR               304 non-null    float64\n",
      "dtypes: float64(13), int64(7), object(23)\n",
      "memory usage: 118.4+ KB\n"
     ]
    }
   ],
   "source": [
    "mentalhealth.info()"
   ]
  },
  {
   "cell_type": "markdown",
   "id": "7a13e57f",
   "metadata": {},
   "source": [
    "## Dropping \"0\" in Age"
   ]
  },
  {
   "cell_type": "code",
   "execution_count": 41,
   "id": "640420b1",
   "metadata": {},
   "outputs": [
    {
     "data": {
      "text/plain": [
       "array([25, 51, 27, 37, 46, 36, 39, 35, 49, 45, 40, 31, 26, 43, 32, 41, 53,\n",
       "       29, 28, 24, 42, 34, 23, 30, 58, 50, 52, 33, 54, 38, 64, 55, 60, 47,\n",
       "       48, 20,  0, 22, 63, 44, 59, 19, 56, 21])"
      ]
     },
     "execution_count": 41,
     "metadata": {},
     "output_type": "execute_result"
    }
   ],
   "source": [
    "mentalhealth.Age.unique()"
   ]
  },
  {
   "cell_type": "code",
   "execution_count": 42,
   "id": "0f3c359a",
   "metadata": {},
   "outputs": [],
   "source": [
    "mentalhealth.drop(mentalhealth[mentalhealth['Age'] < 2].index, inplace=True)"
   ]
  },
  {
   "cell_type": "code",
   "execution_count": 43,
   "id": "de862e9c",
   "metadata": {},
   "outputs": [],
   "source": [
    "unique_age = mentalhealth.Age.unique()"
   ]
  },
  {
   "cell_type": "code",
   "execution_count": 44,
   "id": "4a91850d",
   "metadata": {},
   "outputs": [
    {
     "name": "stdout",
     "output_type": "stream",
     "text": [
      "[19, 20, 21, 22, 23, 24, 25, 26, 27, 28, 29, 30, 31, 32, 33, 34, 35, 36, 37, 38, 39, 40, 41, 42, 43, 44, 45, 46, 47, 48, 49, 50, 51, 52, 53, 54, 55, 56, 58, 59, 60, 63, 64]\n"
     ]
    }
   ],
   "source": [
    "print(sorted(unique_age))"
   ]
  },
  {
   "cell_type": "markdown",
   "id": "eb38941e",
   "metadata": {},
   "source": [
    "## Evaluating Missing values further"
   ]
  },
  {
   "cell_type": "markdown",
   "id": "cd59d32e",
   "metadata": {},
   "source": [
    "##### Since we might want to analyze Race as a factor later, but it's has a large amount of missing values, we will subset race into it's own dataframe and then drop it from the main dataframe"
   ]
  },
  {
   "cell_type": "code",
   "execution_count": 45,
   "id": "817675c4",
   "metadata": {},
   "outputs": [
    {
     "data": {
      "text/plain": [
       "SelfEmployed                   0\n",
       "CompanySize                   48\n",
       "TechCompany                   48\n",
       "TechRole                      48\n",
       "MHcoverage                    48\n",
       "AwarenessMHcareResources      74\n",
       "ERdiscussedMHformally         48\n",
       "ERofferMHresources            48\n",
       "AnonymityProtected            48\n",
       "MHpromptWorkLeave             48\n",
       "MoreComfortCoworkerDisc       48\n",
       "ComfortMHdiscSupervisor       48\n",
       "DiscussMHwithER               48\n",
       "ComfortMHdiscCoworker         48\n",
       "DiscussMHwithCoworker         51\n",
       "ERimportanceMH                48\n",
       "CurrentMHdisorder              0\n",
       "PastMHdx                       3\n",
       "MHdoInterfereTreated           0\n",
       "MHdoInterfereNotTreated        0\n",
       "ObsLesslikelyRevealMHdx       70\n",
       "MHunsupportedWP                0\n",
       "MHsupportedWP                  0\n",
       "TechSupportedMH                0\n",
       "Age                            0\n",
       "Gender                         5\n",
       "Race                         148\n",
       "WorkingCountry                 0\n",
       "WorkingState_Territory         0\n",
       "MHcoverageR                   48\n",
       "AwarenessMHcareResourcesR     74\n",
       "ERdiscussedMHformallyR        48\n",
       "ERofferMHresourcesR           48\n",
       "AnonymityProtectedR           48\n",
       "MHpromptWorkLeaveR            48\n",
       "MHunsupportedWPR               0\n",
       "RaceR                        148\n",
       "WorkingCountryR                0\n",
       "WorkingStateR                  0\n",
       "CurrentMHdisorderR             0\n",
       "ObsLesslikelyRevealMHdxR      70\n",
       "GenderR                        5\n",
       "CompanySizeR                  48\n",
       "dtype: int64"
      ]
     },
     "execution_count": 45,
     "metadata": {},
     "output_type": "execute_result"
    }
   ],
   "source": [
    "# looking at all the missing values again\n",
    "mentalhealth.isnull().sum()"
   ]
  },
  {
   "cell_type": "markdown",
   "id": "925d251c",
   "metadata": {},
   "source": [
    "### Subsetting Race into separate dataframe & dropping remaining null values"
   ]
  },
  {
   "cell_type": "code",
   "execution_count": 46,
   "id": "c4361053",
   "metadata": {},
   "outputs": [],
   "source": [
    "mh_race = mentalhealth.dropna()"
   ]
  },
  {
   "cell_type": "code",
   "execution_count": 47,
   "id": "4182d9a3",
   "metadata": {},
   "outputs": [
    {
     "data": {
      "text/plain": [
       "SelfEmployed                 0\n",
       "CompanySize                  0\n",
       "TechCompany                  0\n",
       "TechRole                     0\n",
       "MHcoverage                   0\n",
       "AwarenessMHcareResources     0\n",
       "ERdiscussedMHformally        0\n",
       "ERofferMHresources           0\n",
       "AnonymityProtected           0\n",
       "MHpromptWorkLeave            0\n",
       "MoreComfortCoworkerDisc      0\n",
       "ComfortMHdiscSupervisor      0\n",
       "DiscussMHwithER              0\n",
       "ComfortMHdiscCoworker        0\n",
       "DiscussMHwithCoworker        0\n",
       "ERimportanceMH               0\n",
       "CurrentMHdisorder            0\n",
       "PastMHdx                     0\n",
       "MHdoInterfereTreated         0\n",
       "MHdoInterfereNotTreated      0\n",
       "ObsLesslikelyRevealMHdx      0\n",
       "MHunsupportedWP              0\n",
       "MHsupportedWP                0\n",
       "TechSupportedMH              0\n",
       "Age                          0\n",
       "Gender                       0\n",
       "Race                         0\n",
       "WorkingCountry               0\n",
       "WorkingState_Territory       0\n",
       "MHcoverageR                  0\n",
       "AwarenessMHcareResourcesR    0\n",
       "ERdiscussedMHformallyR       0\n",
       "ERofferMHresourcesR          0\n",
       "AnonymityProtectedR          0\n",
       "MHpromptWorkLeaveR           0\n",
       "MHunsupportedWPR             0\n",
       "RaceR                        0\n",
       "WorkingCountryR              0\n",
       "WorkingStateR                0\n",
       "CurrentMHdisorderR           0\n",
       "ObsLesslikelyRevealMHdxR     0\n",
       "GenderR                      0\n",
       "CompanySizeR                 0\n",
       "dtype: int64"
      ]
     },
     "execution_count": 47,
     "metadata": {},
     "output_type": "execute_result"
    }
   ],
   "source": [
    "mh_race.isnull().sum()"
   ]
  },
  {
   "cell_type": "markdown",
   "id": "f082ba10",
   "metadata": {},
   "source": [
    "### Subsetting data to drop race and then drop remaining na values"
   ]
  },
  {
   "cell_type": "code",
   "execution_count": 48,
   "id": "501f66eb",
   "metadata": {},
   "outputs": [],
   "source": [
    "mh = mentalhealth.drop(['Race', 'RaceR'], axis=1)"
   ]
  },
  {
   "cell_type": "code",
   "execution_count": 49,
   "id": "0e08e526",
   "metadata": {},
   "outputs": [
    {
     "data": {
      "text/plain": [
       "SelfEmployed                  0\n",
       "CompanySize                  48\n",
       "TechCompany                  48\n",
       "TechRole                     48\n",
       "MHcoverage                   48\n",
       "AwarenessMHcareResources     74\n",
       "ERdiscussedMHformally        48\n",
       "ERofferMHresources           48\n",
       "AnonymityProtected           48\n",
       "MHpromptWorkLeave            48\n",
       "MoreComfortCoworkerDisc      48\n",
       "ComfortMHdiscSupervisor      48\n",
       "DiscussMHwithER              48\n",
       "ComfortMHdiscCoworker        48\n",
       "DiscussMHwithCoworker        51\n",
       "ERimportanceMH               48\n",
       "CurrentMHdisorder             0\n",
       "PastMHdx                      3\n",
       "MHdoInterfereTreated          0\n",
       "MHdoInterfereNotTreated       0\n",
       "ObsLesslikelyRevealMHdx      70\n",
       "MHunsupportedWP               0\n",
       "MHsupportedWP                 0\n",
       "TechSupportedMH               0\n",
       "Age                           0\n",
       "Gender                        5\n",
       "WorkingCountry                0\n",
       "WorkingState_Territory        0\n",
       "MHcoverageR                  48\n",
       "AwarenessMHcareResourcesR    74\n",
       "ERdiscussedMHformallyR       48\n",
       "ERofferMHresourcesR          48\n",
       "AnonymityProtectedR          48\n",
       "MHpromptWorkLeaveR           48\n",
       "MHunsupportedWPR              0\n",
       "WorkingCountryR               0\n",
       "WorkingStateR                 0\n",
       "CurrentMHdisorderR            0\n",
       "ObsLesslikelyRevealMHdxR     70\n",
       "GenderR                       5\n",
       "CompanySizeR                 48\n",
       "dtype: int64"
      ]
     },
     "execution_count": 49,
     "metadata": {},
     "output_type": "execute_result"
    }
   ],
   "source": [
    "#confirming Race and RaceR was dropped and looking at remaining null values\n",
    "mh.isnull().sum()"
   ]
  },
  {
   "cell_type": "code",
   "execution_count": 50,
   "id": "22fd39c6",
   "metadata": {},
   "outputs": [],
   "source": [
    "#dropping remaining na values\n",
    "mh.dropna(inplace=True)"
   ]
  },
  {
   "cell_type": "code",
   "execution_count": 51,
   "id": "b03b78f1",
   "metadata": {},
   "outputs": [
    {
     "data": {
      "text/plain": [
       "SelfEmployed                 0\n",
       "CompanySize                  0\n",
       "TechCompany                  0\n",
       "TechRole                     0\n",
       "MHcoverage                   0\n",
       "AwarenessMHcareResources     0\n",
       "ERdiscussedMHformally        0\n",
       "ERofferMHresources           0\n",
       "AnonymityProtected           0\n",
       "MHpromptWorkLeave            0\n",
       "MoreComfortCoworkerDisc      0\n",
       "ComfortMHdiscSupervisor      0\n",
       "DiscussMHwithER              0\n",
       "ComfortMHdiscCoworker        0\n",
       "DiscussMHwithCoworker        0\n",
       "ERimportanceMH               0\n",
       "CurrentMHdisorder            0\n",
       "PastMHdx                     0\n",
       "MHdoInterfereTreated         0\n",
       "MHdoInterfereNotTreated      0\n",
       "ObsLesslikelyRevealMHdx      0\n",
       "MHunsupportedWP              0\n",
       "MHsupportedWP                0\n",
       "TechSupportedMH              0\n",
       "Age                          0\n",
       "Gender                       0\n",
       "WorkingCountry               0\n",
       "WorkingState_Territory       0\n",
       "MHcoverageR                  0\n",
       "AwarenessMHcareResourcesR    0\n",
       "ERdiscussedMHformallyR       0\n",
       "ERofferMHresourcesR          0\n",
       "AnonymityProtectedR          0\n",
       "MHpromptWorkLeaveR           0\n",
       "MHunsupportedWPR             0\n",
       "WorkingCountryR              0\n",
       "WorkingStateR                0\n",
       "CurrentMHdisorderR           0\n",
       "ObsLesslikelyRevealMHdxR     0\n",
       "GenderR                      0\n",
       "CompanySizeR                 0\n",
       "dtype: int64"
      ]
     },
     "execution_count": 51,
     "metadata": {},
     "output_type": "execute_result"
    }
   ],
   "source": [
    "#confirming null values have been dropped\n",
    "mh.isnull().sum()"
   ]
  },
  {
   "cell_type": "markdown",
   "id": "08348682",
   "metadata": {},
   "source": [
    "## Data Wrangling Summary:\n",
    "\n",
    "There are two datasets that are ready to be utilized for data exploration and analysis:\n",
    "\n",
    "1. mh = all columns(excluding Race due to missing values)\n",
    "2. mh_race = race data subsetted \n"
   ]
  },
  {
   "cell_type": "markdown",
   "id": "84f8cce2",
   "metadata": {},
   "source": [
    "# EXPLORATORY DATA ANALYSIS"
   ]
  },
  {
   "cell_type": "code",
   "execution_count": null,
   "id": "df3075db",
   "metadata": {},
   "outputs": [],
   "source": []
  }
 ],
 "metadata": {
  "kernelspec": {
   "display_name": "Python 3 (ipykernel)",
   "language": "python",
   "name": "python3"
  },
  "language_info": {
   "codemirror_mode": {
    "name": "ipython",
    "version": 3
   },
   "file_extension": ".py",
   "mimetype": "text/x-python",
   "name": "python",
   "nbconvert_exporter": "python",
   "pygments_lexer": "ipython3",
   "version": "3.10.0"
  }
 },
 "nbformat": 4,
 "nbformat_minor": 5
}
