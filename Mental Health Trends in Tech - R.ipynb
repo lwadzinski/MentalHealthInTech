{
 "cells": [
  {
   "cell_type": "markdown",
   "id": "e1e113b5-ae77-4c74-b192-acac69e66079",
   "metadata": {},
   "source": [
    "# Loading Data & Packages"
   ]
  },
  {
   "cell_type": "code",
   "execution_count": 1,
   "id": "2ffa1f4d-41bd-49d1-8fd8-e4c543e091a3",
   "metadata": {},
   "outputs": [
    {
     "name": "stderr",
     "output_type": "stream",
     "text": [
      "Loading required package: carData\n",
      "\n",
      "Loading required package: ggplot2\n",
      "\n",
      "Loading required package: lattice\n",
      "\n",
      "Loading required package: lme4\n",
      "\n",
      "Loading required package: Matrix\n",
      "\n",
      "Loading required package: nlme\n",
      "\n",
      "\n",
      "Attaching package: ‘nlme’\n",
      "\n",
      "\n",
      "The following object is masked from ‘package:lme4’:\n",
      "\n",
      "    lmList\n",
      "\n",
      "\n",
      "Loading required package: lmeInfo\n",
      "\n",
      "Loading required package: parallel\n",
      "\n",
      "Loading required package: zoo\n",
      "\n",
      "\n",
      "Attaching package: ‘zoo’\n",
      "\n",
      "\n",
      "The following objects are masked from ‘package:base’:\n",
      "\n",
      "    as.Date, as.Date.numeric\n",
      "\n",
      "\n",
      "\n",
      "Attaching package: ‘dplyr’\n",
      "\n",
      "\n",
      "The following object is masked from ‘package:nlme’:\n",
      "\n",
      "    collapse\n",
      "\n",
      "\n",
      "The following object is masked from ‘package:car’:\n",
      "\n",
      "    recode\n",
      "\n",
      "\n",
      "The following objects are masked from ‘package:stats’:\n",
      "\n",
      "    filter, lag\n",
      "\n",
      "\n",
      "The following objects are masked from ‘package:base’:\n",
      "\n",
      "    intersect, setdiff, setequal, union\n",
      "\n",
      "\n",
      "\n",
      "Attaching package: ‘tidyr’\n",
      "\n",
      "\n",
      "The following object is masked from ‘package:magrittr’:\n",
      "\n",
      "    extract\n",
      "\n",
      "\n",
      "The following objects are masked from ‘package:Matrix’:\n",
      "\n",
      "    expand, pack, unpack\n",
      "\n",
      "\n",
      "Use the command\n",
      "    lattice::trellis.par.set(effectsTheme())\n",
      "  to customize lattice options for effects plots.\n",
      "See ?effectsTheme for details.\n",
      "\n",
      "Loading required package: mvtnorm\n",
      "\n",
      "Loading required package: survival\n",
      "\n",
      "\n",
      "Attaching package: ‘survival’\n",
      "\n",
      "\n",
      "The following object is masked from ‘package:caret’:\n",
      "\n",
      "    cluster\n",
      "\n",
      "\n",
      "Loading required package: TH.data\n",
      "\n",
      "Loading required package: MASS\n",
      "\n",
      "\n",
      "Attaching package: ‘MASS’\n",
      "\n",
      "\n",
      "The following object is masked from ‘package:dplyr’:\n",
      "\n",
      "    select\n",
      "\n",
      "\n",
      "\n",
      "Attaching package: ‘TH.data’\n",
      "\n",
      "\n",
      "The following object is masked from ‘package:MASS’:\n",
      "\n",
      "    geyser\n",
      "\n",
      "\n",
      "\n",
      "Attaching package: ‘psych’\n",
      "\n",
      "\n",
      "The following objects are masked from ‘package:ggplot2’:\n",
      "\n",
      "    %+%, alpha\n",
      "\n",
      "\n",
      "The following object is masked from ‘package:car’:\n",
      "\n",
      "    logit\n",
      "\n",
      "\n",
      "\n",
      "Attaching package: ‘rcompanion’\n",
      "\n",
      "\n",
      "The following object is masked from ‘package:psych’:\n",
      "\n",
      "    phi\n",
      "\n",
      "\n",
      "Registered S3 method overwritten by 'gdata':\n",
      "  method         from     \n",
      "  reorder.factor DescTools\n",
      "\n"
     ]
    }
   ],
   "source": [
    "#import packages\n",
    "\n",
    "library(\"car\")\n",
    "library(\"caret\")\n",
    "library(\"gvlma\")\n",
    "library(\"predictmeans\")\n",
    "library(\"e1071\")\n",
    "library(\"lmtest\")\n",
    "library(\"dplyr\")\n",
    "library(\"magrittr\")\n",
    "library(\"tidyr\")\n",
    "library(\"lmtest\")\n",
    "library(\"readxl\")\n",
    "library(\"effects\")\n",
    "library(\"multcomp\")\n",
    "library(\"psych\")\n",
    "library(\"mvnormtest\")\n",
    "library(\"IDPmisc\")\n",
    "library(\"rcompanion\")\n",
    "library(\"ggplot2\")\n",
    "library('gmodels')"
   ]
  },
  {
   "cell_type": "markdown",
   "id": "89007e75-de5e-486a-ba58-af397704aa86",
   "metadata": {},
   "source": [
    "Since we cleaned the data in python we will be using that dataset in R for analysis so we are staying consistent"
   ]
  },
  {
   "cell_type": "code",
   "execution_count": 2,
   "id": "0ef660e3-8718-4bfd-a330-9acc6f8e2532",
   "metadata": {},
   "outputs": [],
   "source": [
    "#loaing in cleaned data from Python\n",
    "mh_clean = read.csv(\"/Users/jamesthompson/Documents/Entity/FINAL PROJECT/DATASETS/Wrangled.csv\")"
   ]
  },
  {
   "cell_type": "code",
   "execution_count": 3,
   "id": "297e5efd-68d2-49f4-b31e-4c4b32d586fd",
   "metadata": {},
   "outputs": [
    {
     "data": {
      "text/html": [
       "<table class=\"dataframe\">\n",
       "<caption>A data.frame: 6 × 42</caption>\n",
       "<thead>\n",
       "\t<tr><th></th><th scope=col>X</th><th scope=col>SelfEmployed</th><th scope=col>CompanySize</th><th scope=col>TechCompany</th><th scope=col>TechRole</th><th scope=col>MHcoverage</th><th scope=col>AwarenessMHcareResources</th><th scope=col>ERdiscussedMHformally</th><th scope=col>ERofferMHresources</th><th scope=col>AnonymityProtected</th><th scope=col>⋯</th><th scope=col>ERofferMHresourcesR</th><th scope=col>AnonymityProtectedR</th><th scope=col>MHpromptWorkLeaveR</th><th scope=col>MHunsupportedWPR</th><th scope=col>WorkingCountryR</th><th scope=col>WorkingStateR</th><th scope=col>CurrentMHdisorderR</th><th scope=col>ObsLesslikelyRevealMHdxR</th><th scope=col>GenderR</th><th scope=col>CompanySizeR</th></tr>\n",
       "\t<tr><th></th><th scope=col>&lt;int&gt;</th><th scope=col>&lt;int&gt;</th><th scope=col>&lt;chr&gt;</th><th scope=col>&lt;dbl&gt;</th><th scope=col>&lt;dbl&gt;</th><th scope=col>&lt;chr&gt;</th><th scope=col>&lt;chr&gt;</th><th scope=col>&lt;chr&gt;</th><th scope=col>&lt;chr&gt;</th><th scope=col>&lt;chr&gt;</th><th scope=col>⋯</th><th scope=col>&lt;dbl&gt;</th><th scope=col>&lt;dbl&gt;</th><th scope=col>&lt;dbl&gt;</th><th scope=col>&lt;int&gt;</th><th scope=col>&lt;int&gt;</th><th scope=col>&lt;int&gt;</th><th scope=col>&lt;int&gt;</th><th scope=col>&lt;dbl&gt;</th><th scope=col>&lt;dbl&gt;</th><th scope=col>&lt;dbl&gt;</th></tr>\n",
       "</thead>\n",
       "<tbody>\n",
       "\t<tr><th scope=row>1</th><td>0</td><td>0</td><td>26-100 </td><td>1</td><td>1</td><td>I don't know</td><td>No </td><td>Yes</td><td>Yes         </td><td>I don't know</td><td>⋯</td><td>0</td><td>2</td><td>0</td><td>3</td><td>0</td><td>5</td><td>2</td><td>1</td><td>0</td><td>2</td></tr>\n",
       "\t<tr><th scope=row>2</th><td>1</td><td>0</td><td>26-100 </td><td>1</td><td>1</td><td>Yes         </td><td>No </td><td>No </td><td>Yes         </td><td>Yes         </td><td>⋯</td><td>0</td><td>0</td><td>2</td><td>2</td><td>0</td><td>5</td><td>3</td><td>1</td><td>0</td><td>2</td></tr>\n",
       "\t<tr><th scope=row>3</th><td>2</td><td>0</td><td>26-100 </td><td>1</td><td>1</td><td>I don't know</td><td>No </td><td>No </td><td>I don't know</td><td>I don't know</td><td>⋯</td><td>2</td><td>2</td><td>4</td><td>0</td><td>0</td><td>5</td><td>1</td><td>1</td><td>0</td><td>2</td></tr>\n",
       "\t<tr><th scope=row>4</th><td>3</td><td>0</td><td>100-500</td><td>1</td><td>1</td><td>I don't know</td><td>No </td><td>Yes</td><td>Yes         </td><td>Yes         </td><td>⋯</td><td>0</td><td>0</td><td>0</td><td>3</td><td>0</td><td>5</td><td>1</td><td>1</td><td>0</td><td>3</td></tr>\n",
       "\t<tr><th scope=row>5</th><td>5</td><td>0</td><td>100-500</td><td>1</td><td>0</td><td>Yes         </td><td>No </td><td>No </td><td>No          </td><td>I don't know</td><td>⋯</td><td>1</td><td>2</td><td>4</td><td>3</td><td>0</td><td>5</td><td>0</td><td>1</td><td>1</td><td>3</td></tr>\n",
       "\t<tr><th scope=row>6</th><td>6</td><td>0</td><td>26-100 </td><td>1</td><td>1</td><td>Yes         </td><td>Yes</td><td>No </td><td>I don't know</td><td>Yes         </td><td>⋯</td><td>2</td><td>0</td><td>5</td><td>3</td><td>0</td><td>5</td><td>0</td><td>1</td><td>1</td><td>2</td></tr>\n",
       "</tbody>\n",
       "</table>\n"
      ],
      "text/latex": [
       "A data.frame: 6 × 42\n",
       "\\begin{tabular}{r|lllllllllllllllllllll}\n",
       "  & X & SelfEmployed & CompanySize & TechCompany & TechRole & MHcoverage & AwarenessMHcareResources & ERdiscussedMHformally & ERofferMHresources & AnonymityProtected & ⋯ & ERofferMHresourcesR & AnonymityProtectedR & MHpromptWorkLeaveR & MHunsupportedWPR & WorkingCountryR & WorkingStateR & CurrentMHdisorderR & ObsLesslikelyRevealMHdxR & GenderR & CompanySizeR\\\\\n",
       "  & <int> & <int> & <chr> & <dbl> & <dbl> & <chr> & <chr> & <chr> & <chr> & <chr> & ⋯ & <dbl> & <dbl> & <dbl> & <int> & <int> & <int> & <int> & <dbl> & <dbl> & <dbl>\\\\\n",
       "\\hline\n",
       "\t1 & 0 & 0 & 26-100  & 1 & 1 & I don't know & No  & Yes & Yes          & I don't know & ⋯ & 0 & 2 & 0 & 3 & 0 & 5 & 2 & 1 & 0 & 2\\\\\n",
       "\t2 & 1 & 0 & 26-100  & 1 & 1 & Yes          & No  & No  & Yes          & Yes          & ⋯ & 0 & 0 & 2 & 2 & 0 & 5 & 3 & 1 & 0 & 2\\\\\n",
       "\t3 & 2 & 0 & 26-100  & 1 & 1 & I don't know & No  & No  & I don't know & I don't know & ⋯ & 2 & 2 & 4 & 0 & 0 & 5 & 1 & 1 & 0 & 2\\\\\n",
       "\t4 & 3 & 0 & 100-500 & 1 & 1 & I don't know & No  & Yes & Yes          & Yes          & ⋯ & 0 & 0 & 0 & 3 & 0 & 5 & 1 & 1 & 0 & 3\\\\\n",
       "\t5 & 5 & 0 & 100-500 & 1 & 0 & Yes          & No  & No  & No           & I don't know & ⋯ & 1 & 2 & 4 & 3 & 0 & 5 & 0 & 1 & 1 & 3\\\\\n",
       "\t6 & 6 & 0 & 26-100  & 1 & 1 & Yes          & Yes & No  & I don't know & Yes          & ⋯ & 2 & 0 & 5 & 3 & 0 & 5 & 0 & 1 & 1 & 2\\\\\n",
       "\\end{tabular}\n"
      ],
      "text/markdown": [
       "\n",
       "A data.frame: 6 × 42\n",
       "\n",
       "| <!--/--> | X &lt;int&gt; | SelfEmployed &lt;int&gt; | CompanySize &lt;chr&gt; | TechCompany &lt;dbl&gt; | TechRole &lt;dbl&gt; | MHcoverage &lt;chr&gt; | AwarenessMHcareResources &lt;chr&gt; | ERdiscussedMHformally &lt;chr&gt; | ERofferMHresources &lt;chr&gt; | AnonymityProtected &lt;chr&gt; | ⋯ ⋯ | ERofferMHresourcesR &lt;dbl&gt; | AnonymityProtectedR &lt;dbl&gt; | MHpromptWorkLeaveR &lt;dbl&gt; | MHunsupportedWPR &lt;int&gt; | WorkingCountryR &lt;int&gt; | WorkingStateR &lt;int&gt; | CurrentMHdisorderR &lt;int&gt; | ObsLesslikelyRevealMHdxR &lt;dbl&gt; | GenderR &lt;dbl&gt; | CompanySizeR &lt;dbl&gt; |\n",
       "|---|---|---|---|---|---|---|---|---|---|---|---|---|---|---|---|---|---|---|---|---|---|\n",
       "| 1 | 0 | 0 | 26-100  | 1 | 1 | I don't know | No  | Yes | Yes          | I don't know | ⋯ | 0 | 2 | 0 | 3 | 0 | 5 | 2 | 1 | 0 | 2 |\n",
       "| 2 | 1 | 0 | 26-100  | 1 | 1 | Yes          | No  | No  | Yes          | Yes          | ⋯ | 0 | 0 | 2 | 2 | 0 | 5 | 3 | 1 | 0 | 2 |\n",
       "| 3 | 2 | 0 | 26-100  | 1 | 1 | I don't know | No  | No  | I don't know | I don't know | ⋯ | 2 | 2 | 4 | 0 | 0 | 5 | 1 | 1 | 0 | 2 |\n",
       "| 4 | 3 | 0 | 100-500 | 1 | 1 | I don't know | No  | Yes | Yes          | Yes          | ⋯ | 0 | 0 | 0 | 3 | 0 | 5 | 1 | 1 | 0 | 3 |\n",
       "| 5 | 5 | 0 | 100-500 | 1 | 0 | Yes          | No  | No  | No           | I don't know | ⋯ | 1 | 2 | 4 | 3 | 0 | 5 | 0 | 1 | 1 | 3 |\n",
       "| 6 | 6 | 0 | 26-100  | 1 | 1 | Yes          | Yes | No  | I don't know | Yes          | ⋯ | 2 | 0 | 5 | 3 | 0 | 5 | 0 | 1 | 1 | 2 |\n",
       "\n"
      ],
      "text/plain": [
       "  X SelfEmployed CompanySize TechCompany TechRole MHcoverage  \n",
       "1 0 0            26-100      1           1        I don't know\n",
       "2 1 0            26-100      1           1        Yes         \n",
       "3 2 0            26-100      1           1        I don't know\n",
       "4 3 0            100-500     1           1        I don't know\n",
       "5 5 0            100-500     1           0        Yes         \n",
       "6 6 0            26-100      1           1        Yes         \n",
       "  AwarenessMHcareResources ERdiscussedMHformally ERofferMHresources\n",
       "1 No                       Yes                   Yes               \n",
       "2 No                       No                    Yes               \n",
       "3 No                       No                    I don't know      \n",
       "4 No                       Yes                   Yes               \n",
       "5 No                       No                    No                \n",
       "6 Yes                      No                    I don't know      \n",
       "  AnonymityProtected ⋯ ERofferMHresourcesR AnonymityProtectedR\n",
       "1 I don't know       ⋯ 0                   2                  \n",
       "2 Yes                ⋯ 0                   0                  \n",
       "3 I don't know       ⋯ 2                   2                  \n",
       "4 Yes                ⋯ 0                   0                  \n",
       "5 I don't know       ⋯ 1                   2                  \n",
       "6 Yes                ⋯ 2                   0                  \n",
       "  MHpromptWorkLeaveR MHunsupportedWPR WorkingCountryR WorkingStateR\n",
       "1 0                  3                0               5            \n",
       "2 2                  2                0               5            \n",
       "3 4                  0                0               5            \n",
       "4 0                  3                0               5            \n",
       "5 4                  3                0               5            \n",
       "6 5                  3                0               5            \n",
       "  CurrentMHdisorderR ObsLesslikelyRevealMHdxR GenderR CompanySizeR\n",
       "1 2                  1                        0       2           \n",
       "2 3                  1                        0       2           \n",
       "3 1                  1                        0       2           \n",
       "4 1                  1                        0       3           \n",
       "5 0                  1                        1       3           \n",
       "6 0                  1                        1       2           "
      ]
     },
     "metadata": {},
     "output_type": "display_data"
    }
   ],
   "source": [
    "head(mh_clean)"
   ]
  },
  {
   "cell_type": "code",
   "execution_count": 4,
   "id": "75d8cf29-0207-46b8-934b-512b88081e5a",
   "metadata": {},
   "outputs": [
    {
     "data": {
      "text/html": [
       "<style>\n",
       ".dl-inline {width: auto; margin:0; padding: 0}\n",
       ".dl-inline>dt, .dl-inline>dd {float: none; width: auto; display: inline-block}\n",
       ".dl-inline>dt::after {content: \":\\0020\"; padding-right: .5ex}\n",
       ".dl-inline>dt:not(:first-of-type) {padding-left: .5ex}\n",
       "</style><dl class=dl-inline><dt>X</dt><dd>0</dd><dt>SelfEmployed</dt><dd>0</dd><dt>CompanySize</dt><dd>0</dd><dt>TechCompany</dt><dd>0</dd><dt>TechRole</dt><dd>0</dd><dt>MHcoverage</dt><dd>0</dd><dt>AwarenessMHcareResources</dt><dd>0</dd><dt>ERdiscussedMHformally</dt><dd>0</dd><dt>ERofferMHresources</dt><dd>0</dd><dt>AnonymityProtected</dt><dd>0</dd><dt>MHpromptWorkLeave</dt><dd>0</dd><dt>MoreComfortCoworkerDisc</dt><dd>0</dd><dt>ComfortMHdiscSupervisor</dt><dd>0</dd><dt>DiscussMHwithER</dt><dd>0</dd><dt>ComfortMHdiscCoworker</dt><dd>0</dd><dt>DiscussMHwithCoworker</dt><dd>0</dd><dt>ERimportanceMH</dt><dd>0</dd><dt>CurrentMHdisorder</dt><dd>0</dd><dt>PastMHdx</dt><dd>0</dd><dt>MHdoInterfereTreated</dt><dd>0</dd><dt>MHdoInterfereNotTreated</dt><dd>0</dd><dt>ObsLesslikelyRevealMHdx</dt><dd>0</dd><dt>MHunsupportedWP</dt><dd>0</dd><dt>MHsupportedWP</dt><dd>0</dd><dt>TechSupportedMH</dt><dd>0</dd><dt>Age</dt><dd>0</dd><dt>Gender</dt><dd>0</dd><dt>WorkingCountry</dt><dd>0</dd><dt>WorkingState_Territory</dt><dd>0</dd><dt>MHcoverageR</dt><dd>0</dd><dt>AwarenessMHcareResourcesR</dt><dd>0</dd><dt>ERdiscussedMHformallyR</dt><dd>0</dd><dt>ERofferMHresourcesR</dt><dd>0</dd><dt>AnonymityProtectedR</dt><dd>0</dd><dt>MHpromptWorkLeaveR</dt><dd>0</dd><dt>MHunsupportedWPR</dt><dd>0</dd><dt>WorkingCountryR</dt><dd>0</dd><dt>WorkingStateR</dt><dd>0</dd><dt>CurrentMHdisorderR</dt><dd>0</dd><dt>ObsLesslikelyRevealMHdxR</dt><dd>0</dd><dt>GenderR</dt><dd>0</dd><dt>CompanySizeR</dt><dd>0</dd></dl>\n"
      ],
      "text/latex": [
       "\\begin{description*}\n",
       "\\item[X] 0\n",
       "\\item[SelfEmployed] 0\n",
       "\\item[CompanySize] 0\n",
       "\\item[TechCompany] 0\n",
       "\\item[TechRole] 0\n",
       "\\item[MHcoverage] 0\n",
       "\\item[AwarenessMHcareResources] 0\n",
       "\\item[ERdiscussedMHformally] 0\n",
       "\\item[ERofferMHresources] 0\n",
       "\\item[AnonymityProtected] 0\n",
       "\\item[MHpromptWorkLeave] 0\n",
       "\\item[MoreComfortCoworkerDisc] 0\n",
       "\\item[ComfortMHdiscSupervisor] 0\n",
       "\\item[DiscussMHwithER] 0\n",
       "\\item[ComfortMHdiscCoworker] 0\n",
       "\\item[DiscussMHwithCoworker] 0\n",
       "\\item[ERimportanceMH] 0\n",
       "\\item[CurrentMHdisorder] 0\n",
       "\\item[PastMHdx] 0\n",
       "\\item[MHdoInterfereTreated] 0\n",
       "\\item[MHdoInterfereNotTreated] 0\n",
       "\\item[ObsLesslikelyRevealMHdx] 0\n",
       "\\item[MHunsupportedWP] 0\n",
       "\\item[MHsupportedWP] 0\n",
       "\\item[TechSupportedMH] 0\n",
       "\\item[Age] 0\n",
       "\\item[Gender] 0\n",
       "\\item[WorkingCountry] 0\n",
       "\\item[WorkingState\\textbackslash{}\\_Territory] 0\n",
       "\\item[MHcoverageR] 0\n",
       "\\item[AwarenessMHcareResourcesR] 0\n",
       "\\item[ERdiscussedMHformallyR] 0\n",
       "\\item[ERofferMHresourcesR] 0\n",
       "\\item[AnonymityProtectedR] 0\n",
       "\\item[MHpromptWorkLeaveR] 0\n",
       "\\item[MHunsupportedWPR] 0\n",
       "\\item[WorkingCountryR] 0\n",
       "\\item[WorkingStateR] 0\n",
       "\\item[CurrentMHdisorderR] 0\n",
       "\\item[ObsLesslikelyRevealMHdxR] 0\n",
       "\\item[GenderR] 0\n",
       "\\item[CompanySizeR] 0\n",
       "\\end{description*}\n"
      ],
      "text/markdown": [
       "X\n",
       ":   0SelfEmployed\n",
       ":   0CompanySize\n",
       ":   0TechCompany\n",
       ":   0TechRole\n",
       ":   0MHcoverage\n",
       ":   0AwarenessMHcareResources\n",
       ":   0ERdiscussedMHformally\n",
       ":   0ERofferMHresources\n",
       ":   0AnonymityProtected\n",
       ":   0MHpromptWorkLeave\n",
       ":   0MoreComfortCoworkerDisc\n",
       ":   0ComfortMHdiscSupervisor\n",
       ":   0DiscussMHwithER\n",
       ":   0ComfortMHdiscCoworker\n",
       ":   0DiscussMHwithCoworker\n",
       ":   0ERimportanceMH\n",
       ":   0CurrentMHdisorder\n",
       ":   0PastMHdx\n",
       ":   0MHdoInterfereTreated\n",
       ":   0MHdoInterfereNotTreated\n",
       ":   0ObsLesslikelyRevealMHdx\n",
       ":   0MHunsupportedWP\n",
       ":   0MHsupportedWP\n",
       ":   0TechSupportedMH\n",
       ":   0Age\n",
       ":   0Gender\n",
       ":   0WorkingCountry\n",
       ":   0WorkingState_Territory\n",
       ":   0MHcoverageR\n",
       ":   0AwarenessMHcareResourcesR\n",
       ":   0ERdiscussedMHformallyR\n",
       ":   0ERofferMHresourcesR\n",
       ":   0AnonymityProtectedR\n",
       ":   0MHpromptWorkLeaveR\n",
       ":   0MHunsupportedWPR\n",
       ":   0WorkingCountryR\n",
       ":   0WorkingStateR\n",
       ":   0CurrentMHdisorderR\n",
       ":   0ObsLesslikelyRevealMHdxR\n",
       ":   0GenderR\n",
       ":   0CompanySizeR\n",
       ":   0\n",
       "\n"
      ],
      "text/plain": [
       "                        X              SelfEmployed               CompanySize \n",
       "                        0                         0                         0 \n",
       "              TechCompany                  TechRole                MHcoverage \n",
       "                        0                         0                         0 \n",
       " AwarenessMHcareResources     ERdiscussedMHformally        ERofferMHresources \n",
       "                        0                         0                         0 \n",
       "       AnonymityProtected         MHpromptWorkLeave   MoreComfortCoworkerDisc \n",
       "                        0                         0                         0 \n",
       "  ComfortMHdiscSupervisor           DiscussMHwithER     ComfortMHdiscCoworker \n",
       "                        0                         0                         0 \n",
       "    DiscussMHwithCoworker            ERimportanceMH         CurrentMHdisorder \n",
       "                        0                         0                         0 \n",
       "                 PastMHdx      MHdoInterfereTreated   MHdoInterfereNotTreated \n",
       "                        0                         0                         0 \n",
       "  ObsLesslikelyRevealMHdx           MHunsupportedWP             MHsupportedWP \n",
       "                        0                         0                         0 \n",
       "          TechSupportedMH                       Age                    Gender \n",
       "                        0                         0                         0 \n",
       "           WorkingCountry    WorkingState_Territory               MHcoverageR \n",
       "                        0                         0                         0 \n",
       "AwarenessMHcareResourcesR    ERdiscussedMHformallyR       ERofferMHresourcesR \n",
       "                        0                         0                         0 \n",
       "      AnonymityProtectedR        MHpromptWorkLeaveR          MHunsupportedWPR \n",
       "                        0                         0                         0 \n",
       "          WorkingCountryR             WorkingStateR        CurrentMHdisorderR \n",
       "                        0                         0                         0 \n",
       " ObsLesslikelyRevealMHdxR                   GenderR              CompanySizeR \n",
       "                        0                         0                         0 "
      ]
     },
     "metadata": {},
     "output_type": "display_data"
    },
    {
     "data": {
      "text/html": [],
      "text/latex": [],
      "text/markdown": [],
      "text/plain": [
       "character(0)"
      ]
     },
     "metadata": {},
     "output_type": "display_data"
    }
   ],
   "source": [
    "#veryfing data set has no na values\n",
    "colSums(is.na(mh_clean))\n",
    "mh_clean[mh_clean==\"\"]"
   ]
  },
  {
   "cell_type": "markdown",
   "id": "9456ed90-a338-48c3-98ed-30473bd7b613",
   "metadata": {},
   "source": [
    "# ANALYSIS"
   ]
  },
  {
   "cell_type": "markdown",
   "id": "2829124f-166f-456e-bc90-8c70d2431153",
   "metadata": {},
   "source": [
    "## Q1 - What characterists of the employees and company impact mental health?"
   ]
  },
  {
   "cell_type": "code",
   "execution_count": 8,
   "id": "b2b996b4-0814-472e-ad41-75a113e21ded",
   "metadata": {},
   "outputs": [
    {
     "name": "stderr",
     "output_type": "stream",
     "text": [
      "Warning message in chisq.test(t, correct = FALSE, ...):\n",
      "“Chi-squared approximation may be incorrect”\n"
     ]
    },
    {
     "name": "stdout",
     "output_type": "stream",
     "text": [
      "\n",
      "   Cell Contents\n",
      "|-------------------------|\n",
      "|                   Count |\n",
      "|         Expected Values |\n",
      "| Chi-square contribution |\n",
      "|             Row Percent |\n",
      "|          Column Percent |\n",
      "|           Total Percent |\n",
      "|            Std Residual |\n",
      "|-------------------------|\n",
      "\n",
      "Total Observations in Table:  215 \n",
      "\n",
      "                       | mh_clean$TechSupportedMH \n",
      "mh_clean$WorkingStateR |        1  |        2  |        3  |        4  |        5  | Row Total | \n",
      "-----------------------|-----------|-----------|-----------|-----------|-----------|-----------|\n",
      "                     0 |        9  |       27  |       28  |        8  |        0  |       72  | \n",
      "                       |    9.712  |   23.777  |   28.465  |    9.377  |    0.670  |           | \n",
      "                       |    0.052  |    0.437  |    0.008  |    0.202  |    0.670  |           | \n",
      "                       |   12.500% |   37.500% |   38.889% |   11.111% |    0.000% |   33.488% | \n",
      "                       |   31.034% |   38.028% |   32.941% |   28.571% |    0.000% |           | \n",
      "                       |    4.186% |   12.558% |   13.023% |    3.721% |    0.000% |           | \n",
      "                       |   -0.228  |    0.661  |   -0.087  |   -0.450  |   -0.818  |           | \n",
      "-----------------------|-----------|-----------|-----------|-----------|-----------|-----------|\n",
      "                     1 |        2  |        6  |       14  |        1  |        1  |       24  | \n",
      "                       |    3.237  |    7.926  |    9.488  |    3.126  |    0.223  |           | \n",
      "                       |    0.473  |    0.468  |    2.145  |    1.446  |    2.702  |           | \n",
      "                       |    8.333% |   25.000% |   58.333% |    4.167% |    4.167% |   11.163% | \n",
      "                       |    6.897% |    8.451% |   16.471% |    3.571% |   50.000% |           | \n",
      "                       |    0.930% |    2.791% |    6.512% |    0.465% |    0.465% |           | \n",
      "                       |   -0.688  |   -0.684  |    1.465  |   -1.202  |    1.644  |           | \n",
      "-----------------------|-----------|-----------|-----------|-----------|-----------|-----------|\n",
      "                     2 |        6  |        3  |        6  |        4  |        1  |       20  | \n",
      "                       |    2.698  |    6.605  |    7.907  |    2.605  |    0.186  |           | \n",
      "                       |    4.043  |    1.967  |    0.460  |    0.748  |    3.561  |           | \n",
      "                       |   30.000% |   15.000% |   30.000% |   20.000% |    5.000% |    9.302% | \n",
      "                       |   20.690% |    4.225% |    7.059% |   14.286% |   50.000% |           | \n",
      "                       |    2.791% |    1.395% |    2.791% |    1.860% |    0.465% |           | \n",
      "                       |    2.011  |   -1.403  |   -0.678  |    0.865  |    1.887  |           | \n",
      "-----------------------|-----------|-----------|-----------|-----------|-----------|-----------|\n",
      "                     3 |        7  |       14  |       13  |        5  |        0  |       39  | \n",
      "                       |    5.260  |   12.879  |   15.419  |    5.079  |    0.363  |           | \n",
      "                       |    0.575  |    0.098  |    0.379  |    0.001  |    0.363  |           | \n",
      "                       |   17.949% |   35.897% |   33.333% |   12.821% |    0.000% |   18.140% | \n",
      "                       |   24.138% |   19.718% |   15.294% |   17.857% |    0.000% |           | \n",
      "                       |    3.256% |    6.512% |    6.047% |    2.326% |    0.000% |           | \n",
      "                       |    0.758  |    0.312  |   -0.616  |   -0.035  |   -0.602  |           | \n",
      "-----------------------|-----------|-----------|-----------|-----------|-----------|-----------|\n",
      "                     4 |        2  |        6  |        5  |        1  |        0  |       14  | \n",
      "                       |    1.888  |    4.623  |    5.535  |    1.823  |    0.130  |           | \n",
      "                       |    0.007  |    0.410  |    0.052  |    0.372  |    0.130  |           | \n",
      "                       |   14.286% |   42.857% |   35.714% |    7.143% |    0.000% |    6.512% | \n",
      "                       |    6.897% |    8.451% |    5.882% |    3.571% |    0.000% |           | \n",
      "                       |    0.930% |    2.791% |    2.326% |    0.465% |    0.000% |           | \n",
      "                       |    0.081  |    0.640  |   -0.227  |   -0.610  |   -0.361  |           | \n",
      "-----------------------|-----------|-----------|-----------|-----------|-----------|-----------|\n",
      "                     5 |        3  |       15  |       19  |        9  |        0  |       46  | \n",
      "                       |    6.205  |   15.191  |   18.186  |    5.991  |    0.428  |           | \n",
      "                       |    1.655  |    0.002  |    0.036  |    1.512  |    0.428  |           | \n",
      "                       |    6.522% |   32.609% |   41.304% |   19.565% |    0.000% |   21.395% | \n",
      "                       |   10.345% |   21.127% |   22.353% |   32.143% |    0.000% |           | \n",
      "                       |    1.395% |    6.977% |    8.837% |    4.186% |    0.000% |           | \n",
      "                       |   -1.287  |   -0.049  |    0.191  |    1.229  |   -0.654  |           | \n",
      "-----------------------|-----------|-----------|-----------|-----------|-----------|-----------|\n",
      "          Column Total |       29  |       71  |       85  |       28  |        2  |      215  | \n",
      "                       |   13.488% |   33.023% |   39.535% |   13.023% |    0.930% |           | \n",
      "-----------------------|-----------|-----------|-----------|-----------|-----------|-----------|\n",
      "\n",
      " \n",
      "Statistics for All Table Factors\n",
      "\n",
      "\n",
      "Pearson's Chi-squared test \n",
      "------------------------------------------------------------\n",
      "Chi^2 =  25.40076     d.f. =  20     p =  0.1865269 \n",
      "\n",
      "\n",
      " \n"
     ]
    },
    {
     "ename": "ERROR",
     "evalue": "Error in fisher.test(t, alternative = \"two.sided\"): FEXACT error 6 (f5xact).  LDKEY=621 is too small for this problem: kval=15779695.\nTry increasing the size of the workspace.\n",
     "output_type": "error",
     "traceback": [
      "Error in fisher.test(t, alternative = \"two.sided\"): FEXACT error 6 (f5xact).  LDKEY=621 is too small for this problem: kval=15779695.\nTry increasing the size of the workspace.\nTraceback:\n",
      "1. CrossTable(mh_clean$WorkingStateR, mh_clean$TechSupportedMH, \n .     fisher = TRUE, chisq = TRUE, expected = TRUE, sresid = TRUE, \n .     format = \"SPSS\")",
      "2. print.statistics()",
      "3. fisher.test(t, alternative = \"two.sided\")"
     ]
    }
   ],
   "source": [
    "#running analysis on WorkingState\n",
    "CrossTable(mh_clean$WorkingStateR, mh_clean$TechSupportedMH, fisher=TRUE, chisq = TRUE, expected = TRUE, sresid=TRUE, format=\"SPSS\")"
   ]
  },
  {
   "cell_type": "code",
   "execution_count": 6,
   "id": "efe8d051-1aef-4d24-9aca-6b3b91a2f5dc",
   "metadata": {},
   "outputs": [],
   "source": [
    "# no significance found"
   ]
  },
  {
   "cell_type": "code",
   "execution_count": 7,
   "id": "7a7a2773-589f-401c-8804-e1863e5f8c0d",
   "metadata": {},
   "outputs": [
    {
     "name": "stderr",
     "output_type": "stream",
     "text": [
      "Warning message in chisq.test(t, correct = FALSE, ...):\n",
      "“Chi-squared approximation may be incorrect”\n"
     ]
    },
    {
     "name": "stdout",
     "output_type": "stream",
     "text": [
      "\n",
      "   Cell Contents\n",
      "|-------------------------|\n",
      "|                   Count |\n",
      "|         Expected Values |\n",
      "| Chi-square contribution |\n",
      "|             Row Percent |\n",
      "|          Column Percent |\n",
      "|           Total Percent |\n",
      "|            Std Residual |\n",
      "|-------------------------|\n",
      "\n",
      "Total Observations in Table:  215 \n",
      "\n",
      "                  | mh_clean$TechSupportedMH \n",
      "mh_clean$TechRole |        1  |        2  |        3  |        4  |        5  | Row Total | \n",
      "------------------|-----------|-----------|-----------|-----------|-----------|-----------|\n",
      "                0 |        4  |        1  |        5  |        4  |        0  |       14  | \n",
      "                  |    1.888  |    4.623  |    5.535  |    1.823  |    0.130  |           | \n",
      "                  |    2.361  |    2.840  |    0.052  |    2.599  |    0.130  |           | \n",
      "                  |   28.571% |    7.143% |   35.714% |   28.571% |    0.000% |    6.512% | \n",
      "                  |   13.793% |    1.408% |    5.882% |   14.286% |    0.000% |           | \n",
      "                  |    1.860% |    0.465% |    2.326% |    1.860% |    0.000% |           | \n",
      "                  |    1.537  |   -1.685  |   -0.227  |    1.612  |   -0.361  |           | \n",
      "------------------|-----------|-----------|-----------|-----------|-----------|-----------|\n",
      "                1 |       25  |       70  |       80  |       24  |        2  |      201  | \n",
      "                  |   27.112  |   66.377  |   79.465  |   26.177  |    1.870  |           | \n",
      "                  |    0.164  |    0.198  |    0.004  |    0.181  |    0.009  |           | \n",
      "                  |   12.438% |   34.826% |   39.801% |   11.940% |    0.995% |   93.488% | \n",
      "                  |   86.207% |   98.592% |   94.118% |   85.714% |  100.000% |           | \n",
      "                  |   11.628% |   32.558% |   37.209% |   11.163% |    0.930% |           | \n",
      "                  |   -0.406  |    0.445  |    0.060  |   -0.425  |    0.095  |           | \n",
      "------------------|-----------|-----------|-----------|-----------|-----------|-----------|\n",
      "     Column Total |       29  |       71  |       85  |       28  |        2  |      215  | \n",
      "                  |   13.488% |   33.023% |   39.535% |   13.023% |    0.930% |           | \n",
      "------------------|-----------|-----------|-----------|-----------|-----------|-----------|\n",
      "\n",
      " \n",
      "Statistics for All Table Factors\n",
      "\n",
      "\n",
      "Pearson's Chi-squared test \n",
      "------------------------------------------------------------\n",
      "Chi^2 =  8.537448     d.f. =  4     p =  0.07376022 \n",
      "\n",
      "\n",
      " \n",
      "Fisher's Exact Test for Count Data\n",
      "------------------------------------------------------------\n",
      "Alternative hypothesis: two.sided\n",
      "p =  0.04154748 \n",
      "\n",
      " \n",
      "       Minimum expected frequency: 0.1302326 \n",
      "Cells with Expected Frequency < 5: 5 of 10 (50%)\n",
      "\n"
     ]
    }
   ],
   "source": [
    "#running analysis on TechRole\n",
    "CrossTable(mh_clean$TechRole, mh_clean$TechSupportedMH, fisher=TRUE, chisq = TRUE, expected = TRUE, sresid=TRUE, format=\"SPSS\")"
   ]
  },
  {
   "cell_type": "code",
   "execution_count": 9,
   "id": "0c94fbb6-1610-40e7-933b-f94948fad298",
   "metadata": {},
   "outputs": [],
   "source": [
    "#no significance found"
   ]
  },
  {
   "cell_type": "code",
   "execution_count": 10,
   "id": "adb50f31-2f21-40dc-b9c0-a1cf6c4bd50c",
   "metadata": {},
   "outputs": [
    {
     "name": "stderr",
     "output_type": "stream",
     "text": [
      "Warning message in chisq.test(t, correct = FALSE, ...):\n",
      "“Chi-squared approximation may be incorrect”\n"
     ]
    },
    {
     "name": "stdout",
     "output_type": "stream",
     "text": [
      "\n",
      "   Cell Contents\n",
      "|-------------------------|\n",
      "|                   Count |\n",
      "|         Expected Values |\n",
      "| Chi-square contribution |\n",
      "|             Row Percent |\n",
      "|          Column Percent |\n",
      "|           Total Percent |\n",
      "|            Std Residual |\n",
      "|-------------------------|\n",
      "\n",
      "Total Observations in Table:  215 \n",
      "\n",
      "                 | mh_clean$TechSupportedMH \n",
      "mh_clean$GenderR |        1  |        2  |        3  |        4  |        5  | Row Total | \n",
      "-----------------|-----------|-----------|-----------|-----------|-----------|-----------|\n",
      "               0 |       20  |       47  |       51  |       22  |        2  |      142  | \n",
      "                 |   19.153  |   46.893  |   56.140  |   18.493  |    1.321  |           | \n",
      "                 |    0.037  |    0.000  |    0.471  |    0.665  |    0.349  |           | \n",
      "                 |   14.085% |   33.099% |   35.915% |   15.493% |    1.408% |   66.047% | \n",
      "                 |   68.966% |   66.197% |   60.000% |   78.571% |  100.000% |           | \n",
      "                 |    9.302% |   21.860% |   23.721% |   10.233% |    0.930% |           | \n",
      "                 |    0.193  |    0.016  |   -0.686  |    0.816  |    0.591  |           | \n",
      "-----------------|-----------|-----------|-----------|-----------|-----------|-----------|\n",
      "               1 |        7  |       20  |       31  |        6  |        0  |       64  | \n",
      "                 |    8.633  |   21.135  |   25.302  |    8.335  |    0.595  |           | \n",
      "                 |    0.309  |    0.061  |    1.283  |    0.654  |    0.595  |           | \n",
      "                 |   10.938% |   31.250% |   48.438% |    9.375% |    0.000% |   29.767% | \n",
      "                 |   24.138% |   28.169% |   36.471% |   21.429% |    0.000% |           | \n",
      "                 |    3.256% |    9.302% |   14.419% |    2.791% |    0.000% |           | \n",
      "                 |   -0.556  |   -0.247  |    1.133  |   -0.809  |   -0.772  |           | \n",
      "-----------------|-----------|-----------|-----------|-----------|-----------|-----------|\n",
      "               2 |        2  |        4  |        3  |        0  |        0  |        9  | \n",
      "                 |    1.214  |    2.972  |    3.558  |    1.172  |    0.084  |           | \n",
      "                 |    0.509  |    0.356  |    0.088  |    1.172  |    0.084  |           | \n",
      "                 |   22.222% |   44.444% |   33.333% |    0.000% |    0.000% |    4.186% | \n",
      "                 |    6.897% |    5.634% |    3.529% |    0.000% |    0.000% |           | \n",
      "                 |    0.930% |    1.860% |    1.395% |    0.000% |    0.000% |           | \n",
      "                 |    0.713  |    0.596  |   -0.296  |   -1.083  |   -0.289  |           | \n",
      "-----------------|-----------|-----------|-----------|-----------|-----------|-----------|\n",
      "    Column Total |       29  |       71  |       85  |       28  |        2  |      215  | \n",
      "                 |   13.488% |   33.023% |   39.535% |   13.023% |    0.930% |           | \n",
      "-----------------|-----------|-----------|-----------|-----------|-----------|-----------|\n",
      "\n",
      " \n",
      "Statistics for All Table Factors\n",
      "\n",
      "\n",
      "Pearson's Chi-squared test \n",
      "------------------------------------------------------------\n",
      "Chi^2 =  6.632311     d.f. =  8     p =  0.5767719 \n",
      "\n",
      "\n",
      " \n",
      "Fisher's Exact Test for Count Data\n",
      "------------------------------------------------------------\n",
      "Alternative hypothesis: two.sided\n",
      "p =  0.5834448 \n",
      "\n",
      " \n",
      "       Minimum expected frequency: 0.08372093 \n",
      "Cells with Expected Frequency < 5: 7 of 15 (46.66667%)\n",
      "\n"
     ]
    }
   ],
   "source": [
    "#running analysis on Gender\n",
    "CrossTable(mh_clean$GenderR, mh_clean$TechSupportedMH, fisher=TRUE, chisq = TRUE, expected = TRUE, sresid=TRUE, format=\"SPSS\")"
   ]
  },
  {
   "cell_type": "code",
   "execution_count": 11,
   "id": "9fa393d9-76ac-4112-9c7a-bd0852cee9e0",
   "metadata": {},
   "outputs": [],
   "source": [
    "#no significance found"
   ]
  },
  {
   "cell_type": "code",
   "execution_count": 13,
   "id": "d83c3373-4308-49e7-9316-f60cf5b6c0cc",
   "metadata": {},
   "outputs": [
    {
     "name": "stderr",
     "output_type": "stream",
     "text": [
      "Warning message in chisq.test(t, correct = FALSE, ...):\n",
      "“Chi-squared approximation may be incorrect”\n"
     ]
    },
    {
     "name": "stdout",
     "output_type": "stream",
     "text": [
      "\n",
      "   Cell Contents\n",
      "|-------------------------|\n",
      "|                   Count |\n",
      "|         Expected Values |\n",
      "| Chi-square contribution |\n",
      "|             Row Percent |\n",
      "|          Column Percent |\n",
      "|           Total Percent |\n",
      "|            Std Residual |\n",
      "|-------------------------|\n",
      "\n",
      "Total Observations in Table:  215 \n",
      "\n",
      "                      | mh_clean$TechSupportedMH \n",
      "mh_clean$CompanySizeR |        1  |        2  |        3  |        4  |        5  | Row Total | \n",
      "----------------------|-----------|-----------|-----------|-----------|-----------|-----------|\n",
      "                    0 |        0  |        3  |        1  |        1  |        0  |        5  | \n",
      "                      |    0.674  |    1.651  |    1.977  |    0.651  |    0.047  |           | \n",
      "                      |    0.674  |    1.102  |    0.483  |    0.187  |    0.047  |           | \n",
      "                      |    0.000% |   60.000% |   20.000% |   20.000% |    0.000% |    2.326% | \n",
      "                      |    0.000% |    4.225% |    1.176% |    3.571% |    0.000% |           | \n",
      "                      |    0.000% |    1.395% |    0.465% |    0.465% |    0.000% |           | \n",
      "                      |   -0.821  |    1.050  |   -0.695  |    0.432  |   -0.216  |           | \n",
      "----------------------|-----------|-----------|-----------|-----------|-----------|-----------|\n",
      "                    1 |        2  |        6  |       11  |        3  |        0  |       22  | \n",
      "                      |    2.967  |    7.265  |    8.698  |    2.865  |    0.205  |           | \n",
      "                      |    0.315  |    0.220  |    0.609  |    0.006  |    0.205  |           | \n",
      "                      |    9.091% |   27.273% |   50.000% |   13.636% |    0.000% |   10.233% | \n",
      "                      |    6.897% |    8.451% |   12.941% |   10.714% |    0.000% |           | \n",
      "                      |    0.930% |    2.791% |    5.116% |    1.395% |    0.000% |           | \n",
      "                      |   -0.562  |   -0.469  |    0.781  |    0.080  |   -0.452  |           | \n",
      "----------------------|-----------|-----------|-----------|-----------|-----------|-----------|\n",
      "                    2 |        5  |       10  |       12  |        6  |        0  |       33  | \n",
      "                      |    4.451  |   10.898  |   13.047  |    4.298  |    0.307  |           | \n",
      "                      |    0.068  |    0.074  |    0.084  |    0.674  |    0.307  |           | \n",
      "                      |   15.152% |   30.303% |   36.364% |   18.182% |    0.000% |   15.349% | \n",
      "                      |   17.241% |   14.085% |   14.118% |   21.429% |    0.000% |           | \n",
      "                      |    2.326% |    4.651% |    5.581% |    2.791% |    0.000% |           | \n",
      "                      |    0.260  |   -0.272  |   -0.290  |    0.821  |   -0.554  |           | \n",
      "----------------------|-----------|-----------|-----------|-----------|-----------|-----------|\n",
      "                    3 |        7  |       14  |       29  |        6  |        0  |       56  | \n",
      "                      |    7.553  |   18.493  |   22.140  |    7.293  |    0.521  |           | \n",
      "                      |    0.041  |    1.092  |    2.126  |    0.229  |    0.521  |           | \n",
      "                      |   12.500% |   25.000% |   51.786% |   10.714% |    0.000% |   26.047% | \n",
      "                      |   24.138% |   19.718% |   34.118% |   21.429% |    0.000% |           | \n",
      "                      |    3.256% |    6.512% |   13.488% |    2.791% |    0.000% |           | \n",
      "                      |   -0.201  |   -1.045  |    1.458  |   -0.479  |   -0.722  |           | \n",
      "----------------------|-----------|-----------|-----------|-----------|-----------|-----------|\n",
      "                    4 |        4  |        5  |        7  |        4  |        1  |       21  | \n",
      "                      |    2.833  |    6.935  |    8.302  |    2.735  |    0.195  |           | \n",
      "                      |    0.481  |    0.540  |    0.204  |    0.585  |    3.314  |           | \n",
      "                      |   19.048% |   23.810% |   33.333% |   19.048% |    4.762% |    9.767% | \n",
      "                      |   13.793% |    7.042% |    8.235% |   14.286% |   50.000% |           | \n",
      "                      |    1.860% |    2.326% |    3.256% |    1.860% |    0.465% |           | \n",
      "                      |    0.694  |   -0.735  |   -0.452  |    0.765  |    1.821  |           | \n",
      "----------------------|-----------|-----------|-----------|-----------|-----------|-----------|\n",
      "                    5 |       11  |       33  |       25  |        8  |        1  |       78  | \n",
      "                      |   10.521  |   25.758  |   30.837  |   10.158  |    0.726  |           | \n",
      "                      |    0.022  |    2.036  |    1.105  |    0.459  |    0.104  |           | \n",
      "                      |   14.103% |   42.308% |   32.051% |   10.256% |    1.282% |   36.279% | \n",
      "                      |   37.931% |   46.479% |   29.412% |   28.571% |   50.000% |           | \n",
      "                      |    5.116% |   15.349% |   11.628% |    3.721% |    0.465% |           | \n",
      "                      |    0.148  |    1.427  |   -1.051  |   -0.677  |    0.322  |           | \n",
      "----------------------|-----------|-----------|-----------|-----------|-----------|-----------|\n",
      "         Column Total |       29  |       71  |       85  |       28  |        2  |      215  | \n",
      "                      |   13.488% |   33.023% |   39.535% |   13.023% |    0.930% |           | \n",
      "----------------------|-----------|-----------|-----------|-----------|-----------|-----------|\n",
      "\n",
      " \n",
      "Statistics for All Table Factors\n",
      "\n",
      "\n",
      "Pearson's Chi-squared test \n",
      "------------------------------------------------------------\n",
      "Chi^2 =  17.91351     d.f. =  20     p =  0.5931061 \n",
      "\n",
      "\n",
      " \n"
     ]
    },
    {
     "ename": "ERROR",
     "evalue": "Error in fisher.test(t, alternative = \"two.sided\"): FEXACT error 6.  LDKEY=621 is too small for this problem,\n  (ii := key2[itp=450] = 14090927, ldstp=18630)\nTry increasing the size of the workspace and possibly 'mult'\n",
     "output_type": "error",
     "traceback": [
      "Error in fisher.test(t, alternative = \"two.sided\"): FEXACT error 6.  LDKEY=621 is too small for this problem,\n  (ii := key2[itp=450] = 14090927, ldstp=18630)\nTry increasing the size of the workspace and possibly 'mult'\nTraceback:\n",
      "1. CrossTable(mh_clean$CompanySizeR, mh_clean$TechSupportedMH, fisher = TRUE, \n .     chisq = TRUE, expected = TRUE, sresid = TRUE, format = \"SPSS\")",
      "2. print.statistics()",
      "3. fisher.test(t, alternative = \"two.sided\")"
     ]
    }
   ],
   "source": [
    "#running analysis on CompanySize\n",
    "CrossTable(mh_clean$CompanySizeR, mh_clean$TechSupportedMH, fisher=TRUE, chisq = TRUE, expected = TRUE, sresid=TRUE, format=\"SPSS\")"
   ]
  },
  {
   "cell_type": "code",
   "execution_count": 14,
   "id": "9942376d-5ac8-4c6e-8b4c-362c6b2c040f",
   "metadata": {},
   "outputs": [],
   "source": [
    "#no significance found"
   ]
  },
  {
   "cell_type": "code",
   "execution_count": 15,
   "id": "b5b9a73b-8c77-4b14-a989-64674556db5f",
   "metadata": {},
   "outputs": [
    {
     "name": "stderr",
     "output_type": "stream",
     "text": [
      "Warning message in chisq.test(t, correct = FALSE, ...):\n",
      "“Chi-squared approximation may be incorrect”\n"
     ]
    },
    {
     "name": "stdout",
     "output_type": "stream",
     "text": [
      "\n",
      "   Cell Contents\n",
      "|-------------------------|\n",
      "|                   Count |\n",
      "|         Expected Values |\n",
      "| Chi-square contribution |\n",
      "|             Row Percent |\n",
      "|          Column Percent |\n",
      "|           Total Percent |\n",
      "|            Std Residual |\n",
      "|-------------------------|\n",
      "\n",
      "Total Observations in Table:  215 \n",
      "\n",
      "                             | mh_clean$TechSupportedMH \n",
      "mh_clean$ERofferMHresourcesR |        1  |        2  |        3  |        4  |        5  | Row Total | \n",
      "-----------------------------|-----------|-----------|-----------|-----------|-----------|-----------|\n",
      "                           0 |        8  |       26  |       34  |       14  |        0  |       82  | \n",
      "                             |   11.060  |   27.079  |   32.419  |   10.679  |    0.763  |           | \n",
      "                             |    0.847  |    0.043  |    0.077  |    1.033  |    0.763  |           | \n",
      "                             |    9.756% |   31.707% |   41.463% |   17.073% |    0.000% |   38.140% | \n",
      "                             |   27.586% |   36.620% |   40.000% |   50.000% |    0.000% |           | \n",
      "                             |    3.721% |   12.093% |   15.814% |    6.512% |    0.000% |           | \n",
      "                             |   -0.920  |   -0.207  |    0.278  |    1.016  |   -0.873  |           | \n",
      "-----------------------------|-----------|-----------|-----------|-----------|-----------|-----------|\n",
      "                           1 |       14  |       30  |       30  |        8  |        2  |       84  | \n",
      "                             |   11.330  |   27.740  |   33.209  |   10.940  |    0.781  |           | \n",
      "                             |    0.629  |    0.184  |    0.310  |    0.790  |    1.900  |           | \n",
      "                             |   16.667% |   35.714% |   35.714% |    9.524% |    2.381% |   39.070% | \n",
      "                             |   48.276% |   42.254% |   35.294% |   28.571% |  100.000% |           | \n",
      "                             |    6.512% |   13.953% |   13.953% |    3.721% |    0.930% |           | \n",
      "                             |    0.793  |    0.429  |   -0.557  |   -0.889  |    1.379  |           | \n",
      "-----------------------------|-----------|-----------|-----------|-----------|-----------|-----------|\n",
      "                           2 |        7  |       15  |       21  |        6  |        0  |       49  | \n",
      "                             |    6.609  |   16.181  |   19.372  |    6.381  |    0.456  |           | \n",
      "                             |    0.023  |    0.086  |    0.137  |    0.023  |    0.456  |           | \n",
      "                             |   14.286% |   30.612% |   42.857% |   12.245% |    0.000% |   22.791% | \n",
      "                             |   24.138% |   21.127% |   24.706% |   21.429% |    0.000% |           | \n",
      "                             |    3.256% |    6.977% |    9.767% |    2.791% |    0.000% |           | \n",
      "                             |    0.152  |   -0.294  |    0.370  |   -0.151  |   -0.675  |           | \n",
      "-----------------------------|-----------|-----------|-----------|-----------|-----------|-----------|\n",
      "                Column Total |       29  |       71  |       85  |       28  |        2  |      215  | \n",
      "                             |   13.488% |   33.023% |   39.535% |   13.023% |    0.930% |           | \n",
      "-----------------------------|-----------|-----------|-----------|-----------|-----------|-----------|\n",
      "\n",
      " \n",
      "Statistics for All Table Factors\n",
      "\n",
      "\n",
      "Pearson's Chi-squared test \n",
      "------------------------------------------------------------\n",
      "Chi^2 =  7.301003     d.f. =  8     p =  0.5045322 \n",
      "\n",
      "\n",
      " \n",
      "       Minimum expected frequency: 0.455814 \n",
      "Cells with Expected Frequency < 5: 3 of 15 (20%)\n",
      "\n"
     ]
    }
   ],
   "source": [
    "#running analysis on ERofferMHresources\n",
    "CrossTable(mh_clean$ERofferMHresourcesR, mh_clean$TechSupportedMH, fisher=FALSE, chisq = TRUE, expected = TRUE, sresid=TRUE, format=\"SPSS\")"
   ]
  },
  {
   "cell_type": "code",
   "execution_count": 16,
   "id": "dd6054de-9645-48ef-9b35-4f5c2e0d4edb",
   "metadata": {},
   "outputs": [],
   "source": [
    "#no significance found"
   ]
  },
  {
   "cell_type": "code",
   "execution_count": 17,
   "id": "d520ce60-9644-403b-8935-18f74f17522a",
   "metadata": {},
   "outputs": [
    {
     "name": "stderr",
     "output_type": "stream",
     "text": [
      "Warning message in chisq.test(t, correct = FALSE, ...):\n",
      "“Chi-squared approximation may be incorrect”\n"
     ]
    },
    {
     "name": "stdout",
     "output_type": "stream",
     "text": [
      "\n",
      "   Cell Contents\n",
      "|-------------------------|\n",
      "|                   Count |\n",
      "|         Expected Values |\n",
      "| Chi-square contribution |\n",
      "|             Row Percent |\n",
      "|          Column Percent |\n",
      "|           Total Percent |\n",
      "|            Std Residual |\n",
      "|-------------------------|\n",
      "\n",
      "Total Observations in Table:  215 \n",
      "\n",
      "                     | mh_clean$TechSupportedMH \n",
      "mh_clean$MHcoverageR |        1  |        2  |        3  |        4  |        5  | Row Total | \n",
      "---------------------|-----------|-----------|-----------|-----------|-----------|-----------|\n",
      "                   0 |       14  |       46  |       55  |       20  |        0  |      135  | \n",
      "                     |   18.209  |   44.581  |   53.372  |   17.581  |    1.256  |           | \n",
      "                     |    0.973  |    0.045  |    0.050  |    0.333  |    1.256  |           | \n",
      "                     |   10.370% |   34.074% |   40.741% |   14.815% |    0.000% |   62.791% | \n",
      "                     |   48.276% |   64.789% |   64.706% |   71.429% |    0.000% |           | \n",
      "                     |    6.512% |   21.395% |   25.581% |    9.302% |    0.000% |           | \n",
      "                     |   -0.986  |    0.212  |    0.223  |    0.577  |   -1.121  |           | \n",
      "---------------------|-----------|-----------|-----------|-----------|-----------|-----------|\n",
      "                   1 |        3  |        8  |        6  |        0  |        0  |       17  | \n",
      "                     |    2.293  |    5.614  |    6.721  |    2.214  |    0.158  |           | \n",
      "                     |    0.218  |    1.014  |    0.077  |    2.214  |    0.158  |           | \n",
      "                     |   17.647% |   47.059% |   35.294% |    0.000% |    0.000% |    7.907% | \n",
      "                     |   10.345% |   11.268% |    7.059% |    0.000% |    0.000% |           | \n",
      "                     |    1.395% |    3.721% |    2.791% |    0.000% |    0.000% |           | \n",
      "                     |    0.467  |    1.007  |   -0.278  |   -1.488  |   -0.398  |           | \n",
      "---------------------|-----------|-----------|-----------|-----------|-----------|-----------|\n",
      "                   2 |       11  |       15  |       22  |        8  |        2  |       58  | \n",
      "                     |    7.823  |   19.153  |   22.930  |    7.553  |    0.540  |           | \n",
      "                     |    1.290  |    0.901  |    0.038  |    0.026  |    3.953  |           | \n",
      "                     |   18.966% |   25.862% |   37.931% |   13.793% |    3.448% |   26.977% | \n",
      "                     |   37.931% |   21.127% |   25.882% |   28.571% |  100.000% |           | \n",
      "                     |    5.116% |    6.977% |   10.233% |    3.721% |    0.930% |           | \n",
      "                     |    1.136  |   -0.949  |   -0.194  |    0.162  |    1.988  |           | \n",
      "---------------------|-----------|-----------|-----------|-----------|-----------|-----------|\n",
      "                   3 |        1  |        2  |        2  |        0  |        0  |        5  | \n",
      "                     |    0.674  |    1.651  |    1.977  |    0.651  |    0.047  |           | \n",
      "                     |    0.157  |    0.074  |    0.000  |    0.651  |    0.047  |           | \n",
      "                     |   20.000% |   40.000% |   40.000% |    0.000% |    0.000% |    2.326% | \n",
      "                     |    3.448% |    2.817% |    2.353% |    0.000% |    0.000% |           | \n",
      "                     |    0.465% |    0.930% |    0.930% |    0.000% |    0.000% |           | \n",
      "                     |    0.396  |    0.271  |    0.017  |   -0.807  |   -0.216  |           | \n",
      "---------------------|-----------|-----------|-----------|-----------|-----------|-----------|\n",
      "        Column Total |       29  |       71  |       85  |       28  |        2  |      215  | \n",
      "                     |   13.488% |   33.023% |   39.535% |   13.023% |    0.930% |           | \n",
      "---------------------|-----------|-----------|-----------|-----------|-----------|-----------|\n",
      "\n",
      " \n",
      "Statistics for All Table Factors\n",
      "\n",
      "\n",
      "Pearson's Chi-squared test \n",
      "------------------------------------------------------------\n",
      "Chi^2 =  13.47482     d.f. =  12     p =  0.3354935 \n",
      "\n",
      "\n",
      " \n"
     ]
    },
    {
     "ename": "ERROR",
     "evalue": "Error in fisher.test(t, alternative = \"two.sided\"): FEXACT error 6.  LDKEY=621 is too small for this problem,\n  (ii := key2[itp=669] = 801756, ldstp=18630)\nTry increasing the size of the workspace and possibly 'mult'\n",
     "output_type": "error",
     "traceback": [
      "Error in fisher.test(t, alternative = \"two.sided\"): FEXACT error 6.  LDKEY=621 is too small for this problem,\n  (ii := key2[itp=669] = 801756, ldstp=18630)\nTry increasing the size of the workspace and possibly 'mult'\nTraceback:\n",
      "1. CrossTable(mh_clean$MHcoverageR, mh_clean$TechSupportedMH, fisher = TRUE, \n .     chisq = TRUE, expected = TRUE, sresid = TRUE, format = \"SPSS\")",
      "2. print.statistics()",
      "3. fisher.test(t, alternative = \"two.sided\")"
     ]
    }
   ],
   "source": [
    "#running analysis on MHcoverage\n",
    "CrossTable(mh_clean$MHcoverageR, mh_clean$TechSupportedMH, fisher=TRUE, chisq = TRUE, expected = TRUE, sresid=TRUE, format=\"SPSS\")"
   ]
  },
  {
   "cell_type": "code",
   "execution_count": 18,
   "id": "57ee59c1-47cf-4b8e-ac8c-747124bfa26f",
   "metadata": {},
   "outputs": [],
   "source": [
    "#no significance found"
   ]
  },
  {
   "cell_type": "markdown",
   "id": "4d26213f-f711-4214-82c6-0cc50e3fa5a6",
   "metadata": {},
   "source": [
    "#### Q1 Summary:\n",
    "\n",
    "There were no significant findings on whether employee or company characterists made employees feel more or less supported in their mental health "
   ]
  },
  {
   "cell_type": "markdown",
   "id": "5d59cf75-4fe3-4c13-bb97-35d4d0deaec6",
   "metadata": {},
   "source": [
    "## Q2 - How do the resources available, or the awareness of resources available, impact mental health support in tech?"
   ]
  },
  {
   "cell_type": "markdown",
   "id": "794a87a2-12ea-4d8d-923f-3c88da7f3269",
   "metadata": {},
   "source": [
    "### ANOVA - TechSupportedMH"
   ]
  },
  {
   "cell_type": "code",
   "execution_count": 20,
   "id": "90da970d-3d49-4319-89b8-4747a0f5e6bb",
   "metadata": {},
   "outputs": [],
   "source": [
    "anova_clean1 = aov(mh_clean$TechSupportedMH ~ mh_clean$MHcoverageR)"
   ]
  },
  {
   "cell_type": "code",
   "execution_count": 21,
   "id": "904f91b3-0a86-41a0-a991-02be792c5e84",
   "metadata": {},
   "outputs": [
    {
     "data": {
      "text/plain": [
       "                      Df Sum Sq Mean Sq F value Pr(>F)\n",
       "mh_clean$MHcoverageR   1   0.44  0.4432   0.528  0.468\n",
       "Residuals            213 178.79  0.8394               "
      ]
     },
     "metadata": {},
     "output_type": "display_data"
    }
   ],
   "source": [
    "summary(anova_clean1)"
   ]
  },
  {
   "cell_type": "code",
   "execution_count": 22,
   "id": "a8d3874a-835b-40df-b493-ae8483efaaac",
   "metadata": {},
   "outputs": [],
   "source": [
    "anova_clean2 = aov(mh_clean$TechSupportedMH ~ mh_clean$AwarenessMHcareResourcesR)"
   ]
  },
  {
   "cell_type": "code",
   "execution_count": 23,
   "id": "5a2b3243-4b52-4c0f-b99c-9caf154d065e",
   "metadata": {},
   "outputs": [
    {
     "data": {
      "text/plain": [
       "                                    Df Sum Sq Mean Sq F value Pr(>F)\n",
       "mh_clean$AwarenessMHcareResourcesR   1   0.22  0.2244   0.267  0.606\n",
       "Residuals                          213 179.01  0.8404               "
      ]
     },
     "metadata": {},
     "output_type": "display_data"
    }
   ],
   "source": [
    "summary(anova_clean2)"
   ]
  },
  {
   "cell_type": "code",
   "execution_count": 24,
   "id": "22c34fa0-28d0-4cca-86ad-099ab971d397",
   "metadata": {},
   "outputs": [],
   "source": [
    "anova_clean3 = aov(mh_clean$TechSupportedMH ~ mh_clean$ERdiscussedMHformallyR)"
   ]
  },
  {
   "cell_type": "code",
   "execution_count": 25,
   "id": "f2f03955-786a-4aeb-809e-0065ddb57ae9",
   "metadata": {},
   "outputs": [
    {
     "data": {
      "text/plain": [
       "                                 Df Sum Sq Mean Sq F value Pr(>F)\n",
       "mh_clean$ERdiscussedMHformallyR   1   0.81  0.8058   0.962  0.328\n",
       "Residuals                       213 178.43  0.8377               "
      ]
     },
     "metadata": {},
     "output_type": "display_data"
    }
   ],
   "source": [
    "summary(anova_clean3)"
   ]
  },
  {
   "cell_type": "code",
   "execution_count": 26,
   "id": "270423ef-bf84-4267-a33b-b9ab1b4c7e90",
   "metadata": {},
   "outputs": [],
   "source": [
    "anova_clean4 = aov(mh_clean$TechSupportedMH ~ mh_clean$ERofferMHresourcesR)"
   ]
  },
  {
   "cell_type": "code",
   "execution_count": 27,
   "id": "14de2bcf-6978-43e1-bbfb-97d0e9e2e151",
   "metadata": {},
   "outputs": [
    {
     "data": {
      "text/plain": [
       "                              Df Sum Sq Mean Sq F value Pr(>F)\n",
       "mh_clean$ERofferMHresourcesR   1   0.78  0.7764   0.927  0.337\n",
       "Residuals                    213 178.46  0.8378               "
      ]
     },
     "metadata": {},
     "output_type": "display_data"
    }
   ],
   "source": [
    "summary(anova_clean4)"
   ]
  },
  {
   "cell_type": "markdown",
   "id": "2567c229-90ba-409f-9078-a785c8424f42",
   "metadata": {},
   "source": [
    "No significant findings in any of ANOVA tests"
   ]
  },
  {
   "cell_type": "markdown",
   "id": "160eed60-a694-472b-bf90-35e18f14073e",
   "metadata": {},
   "source": [
    "### ANOVA - ERimportanceMH"
   ]
  },
  {
   "cell_type": "code",
   "execution_count": 29,
   "id": "54f5b06e-e154-4206-8ee1-f47a11b70532",
   "metadata": {},
   "outputs": [],
   "source": [
    "anova_clean5 = aov(mh_clean$ERimportanceMH ~ mh_clean$MHcoverageR)"
   ]
  },
  {
   "cell_type": "code",
   "execution_count": 30,
   "id": "5783c353-a239-4bd5-8f18-819ca90b0aa0",
   "metadata": {},
   "outputs": [
    {
     "data": {
      "text/plain": [
       "                      Df Sum Sq Mean Sq F value   Pr(>F)    \n",
       "mh_clean$MHcoverageR   1  137.5  137.50   24.38 1.59e-06 ***\n",
       "Residuals            213 1201.1    5.64                     \n",
       "---\n",
       "Signif. codes:  0 ‘***’ 0.001 ‘**’ 0.01 ‘*’ 0.05 ‘.’ 0.1 ‘ ’ 1"
      ]
     },
     "metadata": {},
     "output_type": "display_data"
    }
   ],
   "source": [
    "summary(anova_clean5)"
   ]
  },
  {
   "cell_type": "code",
   "execution_count": 31,
   "id": "b71eaf64-130d-4650-9639-de056c8afa19",
   "metadata": {},
   "outputs": [],
   "source": [
    "anova_clean6 = aov(mh_clean$ERimportanceMH ~ mh_clean$AwarenessMHcareResourcesR)"
   ]
  },
  {
   "cell_type": "code",
   "execution_count": 32,
   "id": "f77da1da-e8e1-42bf-8068-af352822cb6f",
   "metadata": {},
   "outputs": [
    {
     "data": {
      "text/plain": [
       "                                    Df Sum Sq Mean Sq F value   Pr(>F)    \n",
       "mh_clean$AwarenessMHcareResourcesR   1   75.7   75.69   12.77 0.000437 ***\n",
       "Residuals                          213 1262.9    5.93                     \n",
       "---\n",
       "Signif. codes:  0 ‘***’ 0.001 ‘**’ 0.01 ‘*’ 0.05 ‘.’ 0.1 ‘ ’ 1"
      ]
     },
     "metadata": {},
     "output_type": "display_data"
    }
   ],
   "source": [
    "summary(anova_clean6)"
   ]
  },
  {
   "cell_type": "code",
   "execution_count": 33,
   "id": "dfedddb1-0d98-45af-b7b8-a2692adb118e",
   "metadata": {},
   "outputs": [],
   "source": [
    "anova_clean7 = aov(mh_clean$ERimportanceMH ~ mh_clean$ERdiscussedMHformallyR)"
   ]
  },
  {
   "cell_type": "code",
   "execution_count": 34,
   "id": "130a66aa-aca5-480f-9737-54643f3fd4f4",
   "metadata": {},
   "outputs": [
    {
     "data": {
      "text/plain": [
       "                                 Df Sum Sq Mean Sq F value   Pr(>F)    \n",
       "mh_clean$ERdiscussedMHformallyR   1   93.9   93.92   16.07 8.43e-05 ***\n",
       "Residuals                       213 1244.7    5.84                     \n",
       "---\n",
       "Signif. codes:  0 ‘***’ 0.001 ‘**’ 0.01 ‘*’ 0.05 ‘.’ 0.1 ‘ ’ 1"
      ]
     },
     "metadata": {},
     "output_type": "display_data"
    }
   ],
   "source": [
    "summary(anova_clean7)"
   ]
  },
  {
   "cell_type": "code",
   "execution_count": 35,
   "id": "17bc2483-0005-45f7-a00d-c58dca098052",
   "metadata": {},
   "outputs": [],
   "source": [
    "anova_clean8 = aov(mh_clean$ERimportanceMH ~ mh_clean$ERofferMHresourcesR)"
   ]
  },
  {
   "cell_type": "code",
   "execution_count": 36,
   "id": "703628c9-14b1-49d1-b4d3-f7ba2de1a336",
   "metadata": {},
   "outputs": [
    {
     "data": {
      "text/plain": [
       "                              Df Sum Sq Mean Sq F value  Pr(>F)   \n",
       "mh_clean$ERofferMHresourcesR   1     61   61.04   10.18 0.00164 **\n",
       "Residuals                    213   1278    6.00                   \n",
       "---\n",
       "Signif. codes:  0 ‘***’ 0.001 ‘**’ 0.01 ‘*’ 0.05 ‘.’ 0.1 ‘ ’ 1"
      ]
     },
     "metadata": {},
     "output_type": "display_data"
    }
   ],
   "source": [
    "summary(anova_clean8)"
   ]
  },
  {
   "cell_type": "markdown",
   "id": "1f025e1a-1c0b-4baf-be8b-09b592f354eb",
   "metadata": {},
   "source": [
    "Significant findings in all tests"
   ]
  },
  {
   "cell_type": "markdown",
   "id": "8e4faa5c-adc5-413b-bd4f-869a6ebc5e85",
   "metadata": {},
   "source": [
    "#### Q2 Summary:\n",
    "\n",
    "Availability AND awareness of mental health resources make employees feel more supported by their employer, but it does not make them feel more suppported by the tech industry as a whole"
   ]
  },
  {
   "cell_type": "code",
   "execution_count": null,
   "id": "eb0309b6-7a03-4533-9dc1-d1d366270b56",
   "metadata": {},
   "outputs": [],
   "source": []
  }
 ],
 "metadata": {
  "kernelspec": {
   "display_name": "R",
   "language": "R",
   "name": "ir"
  },
  "language_info": {
   "codemirror_mode": "r",
   "file_extension": ".r",
   "mimetype": "text/x-r-source",
   "name": "R",
   "pygments_lexer": "r",
   "version": "4.2.0"
  }
 },
 "nbformat": 4,
 "nbformat_minor": 5
}
